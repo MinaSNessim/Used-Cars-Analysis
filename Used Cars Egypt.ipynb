{
 "cells": [
  {
   "cell_type": "markdown",
   "id": "fe69a713",
   "metadata": {},
   "source": [
    "# Used Cars in Egypt"
   ]
  },
  {
   "cell_type": "markdown",
   "id": "9b6e5d3e",
   "metadata": {},
   "source": [
    "## Import libraries"
   ]
  },
  {
   "cell_type": "code",
   "execution_count": 1,
   "id": "516e8210",
   "metadata": {},
   "outputs": [],
   "source": [
    "import pandas as pd\n",
    "import numpy as np\n",
    "import matplotlib.pyplot as plt\n",
    "import seaborn as sns\n",
    "import statsmodels.api as sm"
   ]
  },
  {
   "cell_type": "code",
   "execution_count": null,
   "id": "705b898a",
   "metadata": {},
   "outputs": [],
   "source": []
  },
  {
   "cell_type": "code",
   "execution_count": null,
   "id": "fdeef3d9",
   "metadata": {},
   "outputs": [],
   "source": []
  },
  {
   "cell_type": "markdown",
   "id": "cb3acfdb",
   "metadata": {},
   "source": [
    "## Read and explore data"
   ]
  },
  {
   "cell_type": "code",
   "execution_count": 2,
   "id": "d57fb555",
   "metadata": {},
   "outputs": [],
   "source": [
    "cars_v1 = pd.read_csv('cars.csv')"
   ]
  },
  {
   "cell_type": "code",
   "execution_count": 4,
   "id": "232f1b67",
   "metadata": {},
   "outputs": [
    {
     "data": {
      "text/html": [
       "<div>\n",
       "<style scoped>\n",
       "    .dataframe tbody tr th:only-of-type {\n",
       "        vertical-align: middle;\n",
       "    }\n",
       "\n",
       "    .dataframe tbody tr th {\n",
       "        vertical-align: top;\n",
       "    }\n",
       "\n",
       "    .dataframe thead th {\n",
       "        text-align: right;\n",
       "    }\n",
       "</style>\n",
       "<table border=\"1\" class=\"dataframe\">\n",
       "  <thead>\n",
       "    <tr style=\"text-align: right;\">\n",
       "      <th></th>\n",
       "      <th>Unnamed: 0</th>\n",
       "      <th>Brand</th>\n",
       "      <th>Model</th>\n",
       "      <th>Body</th>\n",
       "      <th>Color</th>\n",
       "      <th>Year</th>\n",
       "      <th>Fuel</th>\n",
       "      <th>Kilometers</th>\n",
       "      <th>Engine</th>\n",
       "      <th>Transmission</th>\n",
       "      <th>Price</th>\n",
       "      <th>Gov</th>\n",
       "    </tr>\n",
       "  </thead>\n",
       "  <tbody>\n",
       "    <tr>\n",
       "      <th>0</th>\n",
       "      <td>5337</td>\n",
       "      <td>Hyundai</td>\n",
       "      <td>Accent</td>\n",
       "      <td>Sedan</td>\n",
       "      <td>Black</td>\n",
       "      <td>2007</td>\n",
       "      <td>Benzine</td>\n",
       "      <td>140000 to 159999</td>\n",
       "      <td>1600 CC</td>\n",
       "      <td>Automatic</td>\n",
       "      <td>140.0</td>\n",
       "      <td>Giza</td>\n",
       "    </tr>\n",
       "    <tr>\n",
       "      <th>1</th>\n",
       "      <td>5338</td>\n",
       "      <td>Hyundai</td>\n",
       "      <td>Accent</td>\n",
       "      <td>Sedan</td>\n",
       "      <td>Silver</td>\n",
       "      <td>2005</td>\n",
       "      <td>Benzine</td>\n",
       "      <td>180000 to 199999</td>\n",
       "      <td>1000 - 1300 CC</td>\n",
       "      <td>Manual</td>\n",
       "      <td>78.0</td>\n",
       "      <td>Qena</td>\n",
       "    </tr>\n",
       "    <tr>\n",
       "      <th>2</th>\n",
       "      <td>5339</td>\n",
       "      <td>Hyundai</td>\n",
       "      <td>Accent</td>\n",
       "      <td>Sedan</td>\n",
       "      <td>Gray</td>\n",
       "      <td>1999</td>\n",
       "      <td>Benzine</td>\n",
       "      <td>140000 to 159999</td>\n",
       "      <td>1400 - 1500 CC</td>\n",
       "      <td>Manual</td>\n",
       "      <td>70.0</td>\n",
       "      <td>Giza</td>\n",
       "    </tr>\n",
       "    <tr>\n",
       "      <th>3</th>\n",
       "      <td>5340</td>\n",
       "      <td>Hyundai</td>\n",
       "      <td>Accent</td>\n",
       "      <td>Sedan</td>\n",
       "      <td>Blue- Navy Blue</td>\n",
       "      <td>2009</td>\n",
       "      <td>Benzine</td>\n",
       "      <td>140000 to 159999</td>\n",
       "      <td>1600 CC</td>\n",
       "      <td>Automatic</td>\n",
       "      <td>150.0</td>\n",
       "      <td>Cairo</td>\n",
       "    </tr>\n",
       "    <tr>\n",
       "      <th>4</th>\n",
       "      <td>5341</td>\n",
       "      <td>Hyundai</td>\n",
       "      <td>Accent</td>\n",
       "      <td>Sedan</td>\n",
       "      <td>Silver</td>\n",
       "      <td>2000</td>\n",
       "      <td>Benzine</td>\n",
       "      <td>10000 to 19999</td>\n",
       "      <td>1000 - 1300 CC</td>\n",
       "      <td>Manual</td>\n",
       "      <td>75.0</td>\n",
       "      <td>Giza</td>\n",
       "    </tr>\n",
       "  </tbody>\n",
       "</table>\n",
       "</div>"
      ],
      "text/plain": [
       "   Unnamed: 0    Brand   Model   Body            Color  Year     Fuel  \\\n",
       "0        5337  Hyundai  Accent  Sedan            Black  2007  Benzine   \n",
       "1        5338  Hyundai  Accent  Sedan           Silver  2005  Benzine   \n",
       "2        5339  Hyundai  Accent  Sedan             Gray  1999  Benzine   \n",
       "3        5340  Hyundai  Accent  Sedan  Blue- Navy Blue  2009  Benzine   \n",
       "4        5341  Hyundai  Accent  Sedan           Silver  2000  Benzine   \n",
       "\n",
       "         Kilometers          Engine Transmission  Price    Gov  \n",
       "0  140000 to 159999         1600 CC    Automatic  140.0   Giza  \n",
       "1  180000 to 199999  1000 - 1300 CC       Manual   78.0   Qena  \n",
       "2  140000 to 159999  1400 - 1500 CC       Manual   70.0   Giza  \n",
       "3  140000 to 159999         1600 CC    Automatic  150.0  Cairo  \n",
       "4    10000 to 19999  1000 - 1300 CC       Manual   75.0   Giza  "
      ]
     },
     "execution_count": 4,
     "metadata": {},
     "output_type": "execute_result"
    }
   ],
   "source": [
    "cars_v1.head()"
   ]
  },
  {
   "cell_type": "code",
   "execution_count": 6,
   "id": "a17c75b7",
   "metadata": {},
   "outputs": [
    {
     "data": {
      "text/html": [
       "<div>\n",
       "<style scoped>\n",
       "    .dataframe tbody tr th:only-of-type {\n",
       "        vertical-align: middle;\n",
       "    }\n",
       "\n",
       "    .dataframe tbody tr th {\n",
       "        vertical-align: top;\n",
       "    }\n",
       "\n",
       "    .dataframe thead th {\n",
       "        text-align: right;\n",
       "    }\n",
       "</style>\n",
       "<table border=\"1\" class=\"dataframe\">\n",
       "  <thead>\n",
       "    <tr style=\"text-align: right;\">\n",
       "      <th></th>\n",
       "      <th>Unnamed: 0</th>\n",
       "      <th>Brand</th>\n",
       "      <th>Model</th>\n",
       "      <th>Body</th>\n",
       "      <th>Color</th>\n",
       "      <th>Year</th>\n",
       "      <th>Fuel</th>\n",
       "      <th>Kilometers</th>\n",
       "      <th>Engine</th>\n",
       "      <th>Transmission</th>\n",
       "      <th>Price</th>\n",
       "      <th>Gov</th>\n",
       "    </tr>\n",
       "  </thead>\n",
       "  <tbody>\n",
       "    <tr>\n",
       "      <th>count</th>\n",
       "      <td>14741.000000</td>\n",
       "      <td>14741</td>\n",
       "      <td>14741</td>\n",
       "      <td>14741</td>\n",
       "      <td>14741</td>\n",
       "      <td>14741.000000</td>\n",
       "      <td>14741</td>\n",
       "      <td>14741</td>\n",
       "      <td>14741</td>\n",
       "      <td>14741</td>\n",
       "      <td>14741.000000</td>\n",
       "      <td>14741</td>\n",
       "    </tr>\n",
       "    <tr>\n",
       "      <th>unique</th>\n",
       "      <td>NaN</td>\n",
       "      <td>3</td>\n",
       "      <td>18</td>\n",
       "      <td>3</td>\n",
       "      <td>14</td>\n",
       "      <td>NaN</td>\n",
       "      <td>2</td>\n",
       "      <td>16</td>\n",
       "      <td>3</td>\n",
       "      <td>2</td>\n",
       "      <td>NaN</td>\n",
       "      <td>26</td>\n",
       "    </tr>\n",
       "    <tr>\n",
       "      <th>top</th>\n",
       "      <td>NaN</td>\n",
       "      <td>Hyundai</td>\n",
       "      <td>128</td>\n",
       "      <td>Sedan</td>\n",
       "      <td>White</td>\n",
       "      <td>NaN</td>\n",
       "      <td>Benzine</td>\n",
       "      <td>More than 200000</td>\n",
       "      <td>1600 CC</td>\n",
       "      <td>Manual</td>\n",
       "      <td>NaN</td>\n",
       "      <td>Cairo</td>\n",
       "    </tr>\n",
       "    <tr>\n",
       "      <th>freq</th>\n",
       "      <td>NaN</td>\n",
       "      <td>5692</td>\n",
       "      <td>2425</td>\n",
       "      <td>13453</td>\n",
       "      <td>2614</td>\n",
       "      <td>NaN</td>\n",
       "      <td>14200</td>\n",
       "      <td>2505</td>\n",
       "      <td>6762</td>\n",
       "      <td>9862</td>\n",
       "      <td>NaN</td>\n",
       "      <td>4458</td>\n",
       "    </tr>\n",
       "    <tr>\n",
       "      <th>mean</th>\n",
       "      <td>8934.846754</td>\n",
       "      <td>NaN</td>\n",
       "      <td>NaN</td>\n",
       "      <td>NaN</td>\n",
       "      <td>NaN</td>\n",
       "      <td>2005.456821</td>\n",
       "      <td>NaN</td>\n",
       "      <td>NaN</td>\n",
       "      <td>NaN</td>\n",
       "      <td>NaN</td>\n",
       "      <td>116.584987</td>\n",
       "      <td>NaN</td>\n",
       "    </tr>\n",
       "    <tr>\n",
       "      <th>std</th>\n",
       "      <td>4922.065495</td>\n",
       "      <td>NaN</td>\n",
       "      <td>NaN</td>\n",
       "      <td>NaN</td>\n",
       "      <td>NaN</td>\n",
       "      <td>12.655566</td>\n",
       "      <td>NaN</td>\n",
       "      <td>NaN</td>\n",
       "      <td>NaN</td>\n",
       "      <td>NaN</td>\n",
       "      <td>82.192718</td>\n",
       "      <td>NaN</td>\n",
       "    </tr>\n",
       "    <tr>\n",
       "      <th>min</th>\n",
       "      <td>812.000000</td>\n",
       "      <td>NaN</td>\n",
       "      <td>NaN</td>\n",
       "      <td>NaN</td>\n",
       "      <td>NaN</td>\n",
       "      <td>1970.000000</td>\n",
       "      <td>NaN</td>\n",
       "      <td>NaN</td>\n",
       "      <td>NaN</td>\n",
       "      <td>NaN</td>\n",
       "      <td>3.000000</td>\n",
       "      <td>NaN</td>\n",
       "    </tr>\n",
       "    <tr>\n",
       "      <th>25%</th>\n",
       "      <td>4497.000000</td>\n",
       "      <td>NaN</td>\n",
       "      <td>NaN</td>\n",
       "      <td>NaN</td>\n",
       "      <td>NaN</td>\n",
       "      <td>1998.000000</td>\n",
       "      <td>NaN</td>\n",
       "      <td>NaN</td>\n",
       "      <td>NaN</td>\n",
       "      <td>NaN</td>\n",
       "      <td>43.700000</td>\n",
       "      <td>NaN</td>\n",
       "    </tr>\n",
       "    <tr>\n",
       "      <th>50%</th>\n",
       "      <td>8182.000000</td>\n",
       "      <td>NaN</td>\n",
       "      <td>NaN</td>\n",
       "      <td>NaN</td>\n",
       "      <td>NaN</td>\n",
       "      <td>2010.000000</td>\n",
       "      <td>NaN</td>\n",
       "      <td>NaN</td>\n",
       "      <td>NaN</td>\n",
       "      <td>NaN</td>\n",
       "      <td>110.000000</td>\n",
       "      <td>NaN</td>\n",
       "    </tr>\n",
       "    <tr>\n",
       "      <th>75%</th>\n",
       "      <td>13373.000000</td>\n",
       "      <td>NaN</td>\n",
       "      <td>NaN</td>\n",
       "      <td>NaN</td>\n",
       "      <td>NaN</td>\n",
       "      <td>2015.000000</td>\n",
       "      <td>NaN</td>\n",
       "      <td>NaN</td>\n",
       "      <td>NaN</td>\n",
       "      <td>NaN</td>\n",
       "      <td>161.000000</td>\n",
       "      <td>NaN</td>\n",
       "    </tr>\n",
       "    <tr>\n",
       "      <th>max</th>\n",
       "      <td>17058.000000</td>\n",
       "      <td>NaN</td>\n",
       "      <td>NaN</td>\n",
       "      <td>NaN</td>\n",
       "      <td>NaN</td>\n",
       "      <td>2022.000000</td>\n",
       "      <td>NaN</td>\n",
       "      <td>NaN</td>\n",
       "      <td>NaN</td>\n",
       "      <td>NaN</td>\n",
       "      <td>471.500000</td>\n",
       "      <td>NaN</td>\n",
       "    </tr>\n",
       "  </tbody>\n",
       "</table>\n",
       "</div>"
      ],
      "text/plain": [
       "          Unnamed: 0    Brand  Model   Body  Color          Year     Fuel  \\\n",
       "count   14741.000000    14741  14741  14741  14741  14741.000000    14741   \n",
       "unique           NaN        3     18      3     14           NaN        2   \n",
       "top              NaN  Hyundai    128  Sedan  White           NaN  Benzine   \n",
       "freq             NaN     5692   2425  13453   2614           NaN    14200   \n",
       "mean     8934.846754      NaN    NaN    NaN    NaN   2005.456821      NaN   \n",
       "std      4922.065495      NaN    NaN    NaN    NaN     12.655566      NaN   \n",
       "min       812.000000      NaN    NaN    NaN    NaN   1970.000000      NaN   \n",
       "25%      4497.000000      NaN    NaN    NaN    NaN   1998.000000      NaN   \n",
       "50%      8182.000000      NaN    NaN    NaN    NaN   2010.000000      NaN   \n",
       "75%     13373.000000      NaN    NaN    NaN    NaN   2015.000000      NaN   \n",
       "max     17058.000000      NaN    NaN    NaN    NaN   2022.000000      NaN   \n",
       "\n",
       "              Kilometers   Engine Transmission         Price    Gov  \n",
       "count              14741    14741        14741  14741.000000  14741  \n",
       "unique                16        3            2           NaN     26  \n",
       "top     More than 200000  1600 CC       Manual           NaN  Cairo  \n",
       "freq                2505     6762         9862           NaN   4458  \n",
       "mean                 NaN      NaN          NaN    116.584987    NaN  \n",
       "std                  NaN      NaN          NaN     82.192718    NaN  \n",
       "min                  NaN      NaN          NaN      3.000000    NaN  \n",
       "25%                  NaN      NaN          NaN     43.700000    NaN  \n",
       "50%                  NaN      NaN          NaN    110.000000    NaN  \n",
       "75%                  NaN      NaN          NaN    161.000000    NaN  \n",
       "max                  NaN      NaN          NaN    471.500000    NaN  "
      ]
     },
     "execution_count": 6,
     "metadata": {},
     "output_type": "execute_result"
    }
   ],
   "source": [
    "cars_v1.describe(include='all')"
   ]
  },
  {
   "cell_type": "code",
   "execution_count": 10,
   "id": "054f5d85",
   "metadata": {},
   "outputs": [
    {
     "name": "stdout",
     "output_type": "stream",
     "text": [
      "Col is  Unnamed: 0\n",
      "5337     1\n",
      "2931     1\n",
      "2933     1\n",
      "2934     1\n",
      "2935     1\n",
      "        ..\n",
      "16284    1\n",
      "16285    1\n",
      "16286    1\n",
      "16287    1\n",
      "14213    1\n",
      "Name: Unnamed: 0, Length: 14741, dtype: int64\n",
      "Col is  Brand\n",
      "Hyundai      5692\n",
      "Fiat         5033\n",
      "Chevrolet    4016\n",
      "Name: Brand, dtype: int64\n",
      "Col is  Model\n",
      "128        2425\n",
      "Verna      1903\n",
      "Elantra    1529\n",
      "Lanos      1342\n",
      "Accent     1272\n",
      "Optra      1252\n",
      "Shahin     1142\n",
      "Aveo        994\n",
      "131         572\n",
      "Cruze       428\n",
      "Uno         350\n",
      "Avante      282\n",
      "Tipo        274\n",
      "Punto       270\n",
      "Matrix      268\n",
      "Tucson      182\n",
      "I10         166\n",
      "Excel        90\n",
      "Name: Model, dtype: int64\n",
      "Col is  Body\n",
      "Sedan        13453\n",
      "Hatchback     1106\n",
      "SUV            182\n",
      "Name: Body, dtype: int64\n",
      "Col is  Color\n",
      "White              2614\n",
      "Black              2032\n",
      "Silver             1952\n",
      "Gray               1670\n",
      "Red                1538\n",
      "Blue- Navy Blue    1406\n",
      "Other Color        1134\n",
      "Burgundy           1061\n",
      "Green               456\n",
      "Gold                374\n",
      "Beige               152\n",
      "Brown               140\n",
      "Yellow              134\n",
      "Orange               78\n",
      "Name: Color, dtype: int64\n",
      "Col is  Year\n",
      "2013    850\n",
      "2010    763\n",
      "2011    728\n",
      "2015    727\n",
      "2012    693\n",
      "2017    690\n",
      "2014    622\n",
      "2019    607\n",
      "2009    591\n",
      "2018    574\n",
      "2016    562\n",
      "2008    485\n",
      "2021    388\n",
      "2006    348\n",
      "2020    346\n",
      "2007    300\n",
      "2001    260\n",
      "1999    241\n",
      "2000    231\n",
      "2002    230\n",
      "1998    219\n",
      "2005    218\n",
      "1987    212\n",
      "2003    211\n",
      "1990    211\n",
      "1979    209\n",
      "1982    198\n",
      "2004    185\n",
      "1997    183\n",
      "1996    173\n",
      "1980    172\n",
      "1988    160\n",
      "1983    160\n",
      "1985    152\n",
      "1981    145\n",
      "1984    145\n",
      "1993    144\n",
      "1994    144\n",
      "1986    143\n",
      "1991    140\n",
      "1977    130\n",
      "2022    118\n",
      "1989    115\n",
      "1978    114\n",
      "1995    114\n",
      "1976    111\n",
      "1992     90\n",
      "1975     69\n",
      "1974     56\n",
      "1972     22\n",
      "1973     21\n",
      "1971     20\n",
      "1970      1\n",
      "Name: Year, dtype: int64\n",
      "Col is  Fuel\n",
      "Benzine        14200\n",
      "Natural Gas      541\n",
      "Name: Fuel, dtype: int64\n",
      "Col is  Kilometers\n",
      "More than 200000    2505\n",
      "10000 to 19999      1666\n",
      "180000 to 199999    1349\n",
      "100000 to 119999    1192\n",
      "0 to 9999           1088\n",
      "140000 to 159999    1064\n",
      "120000 to 139999    1005\n",
      "90000 to 99999       996\n",
      "160000 to 179999     760\n",
      "20000 to 29999       612\n",
      "80000 to 89999       560\n",
      "50000 to 59999       436\n",
      "60000 to 69999       402\n",
      "40000 to 49999       372\n",
      "30000 to 39999       370\n",
      "70000 to 79999       364\n",
      "Name: Kilometers, dtype: int64\n",
      "Col is  Engine\n",
      "1600 CC           6762\n",
      "1400 - 1500 CC    4356\n",
      "1000 - 1300 CC    3623\n",
      "Name: Engine, dtype: int64\n",
      "Col is  Transmission\n",
      "Manual       9862\n",
      "Automatic    4879\n",
      "Name: Transmission, dtype: int64\n",
      "Col is  Price\n",
      "115.0    254\n",
      "23.0     234\n",
      "138.0    209\n",
      "161.4    195\n",
      "185.6    195\n",
      "        ... \n",
      "122.5      1\n",
      "68.5       1\n",
      "202.0      1\n",
      "111.1      1\n",
      "46.6       1\n",
      "Name: Price, Length: 631, dtype: int64\n",
      "Col is  Gov\n",
      "Cairo             4458\n",
      "Giza              2412\n",
      "Alexandria        1636\n",
      "Sharqia            851\n",
      "Qalyubia           806\n",
      "Gharbia            630\n",
      "Dakahlia           590\n",
      "Monufia            444\n",
      "Ismailia           360\n",
      "Suez               308\n",
      "Fayoum             276\n",
      "Beheira            246\n",
      "Minya              236\n",
      "Asyut              216\n",
      "Damietta           210\n",
      "Beni Suef          186\n",
      "Kafr al-Sheikh     174\n",
      "Sohag              158\n",
      "Red Sea            132\n",
      "Port Said          128\n",
      "Qena               100\n",
      "South Sinai         56\n",
      "Luxor               42\n",
      "Aswan               42\n",
      "Matruh              36\n",
      "New Valley           8\n",
      "Name: Gov, dtype: int64\n"
     ]
    }
   ],
   "source": [
    "for col in cars_v1.columns:\n",
    "    print(\"Col is \", col)\n",
    "    print(cars_v1[col].value_counts())"
   ]
  },
  {
   "cell_type": "code",
   "execution_count": null,
   "id": "3fd072c1",
   "metadata": {},
   "outputs": [],
   "source": [
    "cars_v1[['x', 'y']] = cars_v1['Kilometers'].str.extractall('(\\d+)').unstack().loc[:,0]"
   ]
  },
  {
   "cell_type": "code",
   "execution_count": 19,
   "id": "b1d8e7d3",
   "metadata": {},
   "outputs": [],
   "source": [
    "cars_v1['x']=cars_v1['x'].astype(int)"
   ]
  },
  {
   "cell_type": "code",
   "execution_count": 54,
   "id": "efc857a4",
   "metadata": {},
   "outputs": [
    {
     "data": {
      "text/plain": [
       "19999     1666\n",
       "199999    1349\n",
       "119999    1192\n",
       "9999      1088\n",
       "159999    1064\n",
       "139999    1005\n",
       "99999      996\n",
       "179999     760\n",
       "29999      612\n",
       "89999      560\n",
       "59999      436\n",
       "69999      402\n",
       "49999      372\n",
       "39999      370\n",
       "79999      364\n",
       "Name: y, dtype: int64"
      ]
     },
     "execution_count": 54,
     "metadata": {},
     "output_type": "execute_result"
    }
   ],
   "source": [
    "cars_v1['y'].value_counts()"
   ]
  },
  {
   "cell_type": "code",
   "execution_count": 56,
   "id": "b937851c",
   "metadata": {},
   "outputs": [],
   "source": [
    "cars_v1['y']=cars_v1['y'].astype(float)"
   ]
  },
  {
   "cell_type": "code",
   "execution_count": null,
   "id": "c38b15b5",
   "metadata": {},
   "outputs": [],
   "source": []
  },
  {
   "cell_type": "code",
   "execution_count": 57,
   "id": "f537f160",
   "metadata": {},
   "outputs": [
    {
     "data": {
      "text/plain": [
       "Unnamed: 0        int64\n",
       "Brand            object\n",
       "Model            object\n",
       "Body             object\n",
       "Color            object\n",
       "Year              int64\n",
       "Fuel             object\n",
       "Kilometers       object\n",
       "Engine           object\n",
       "Transmission     object\n",
       "Price           float64\n",
       "Gov              object\n",
       "x                 int32\n",
       "y               float64\n",
       "KM_Adj          float64\n",
       "dtype: object"
      ]
     },
     "execution_count": 57,
     "metadata": {},
     "output_type": "execute_result"
    }
   ],
   "source": [
    "cars_v1.dtypes"
   ]
  },
  {
   "cell_type": "code",
   "execution_count": 58,
   "id": "f033857b",
   "metadata": {},
   "outputs": [],
   "source": [
    "cars_v1['KM_Adj'] = cars_v1[['x', 'y']].mean(axis=1)"
   ]
  },
  {
   "cell_type": "code",
   "execution_count": 61,
   "id": "b778962c",
   "metadata": {},
   "outputs": [],
   "source": [
    "cars_v1.drop(['Kilometers','x','y'],axis=1, inplace= True)"
   ]
  },
  {
   "cell_type": "code",
   "execution_count": 62,
   "id": "2415600f",
   "metadata": {},
   "outputs": [
    {
     "data": {
      "text/html": [
       "<div>\n",
       "<style scoped>\n",
       "    .dataframe tbody tr th:only-of-type {\n",
       "        vertical-align: middle;\n",
       "    }\n",
       "\n",
       "    .dataframe tbody tr th {\n",
       "        vertical-align: top;\n",
       "    }\n",
       "\n",
       "    .dataframe thead th {\n",
       "        text-align: right;\n",
       "    }\n",
       "</style>\n",
       "<table border=\"1\" class=\"dataframe\">\n",
       "  <thead>\n",
       "    <tr style=\"text-align: right;\">\n",
       "      <th></th>\n",
       "      <th>Unnamed: 0</th>\n",
       "      <th>Brand</th>\n",
       "      <th>Model</th>\n",
       "      <th>Body</th>\n",
       "      <th>Color</th>\n",
       "      <th>Year</th>\n",
       "      <th>Fuel</th>\n",
       "      <th>Engine</th>\n",
       "      <th>Transmission</th>\n",
       "      <th>Price</th>\n",
       "      <th>Gov</th>\n",
       "      <th>KM_Adj</th>\n",
       "    </tr>\n",
       "  </thead>\n",
       "  <tbody>\n",
       "    <tr>\n",
       "      <th>0</th>\n",
       "      <td>5337</td>\n",
       "      <td>Hyundai</td>\n",
       "      <td>Accent</td>\n",
       "      <td>Sedan</td>\n",
       "      <td>Black</td>\n",
       "      <td>2007</td>\n",
       "      <td>Benzine</td>\n",
       "      <td>1600 CC</td>\n",
       "      <td>Automatic</td>\n",
       "      <td>140.0</td>\n",
       "      <td>Giza</td>\n",
       "      <td>149999.5</td>\n",
       "    </tr>\n",
       "    <tr>\n",
       "      <th>1</th>\n",
       "      <td>5338</td>\n",
       "      <td>Hyundai</td>\n",
       "      <td>Accent</td>\n",
       "      <td>Sedan</td>\n",
       "      <td>Silver</td>\n",
       "      <td>2005</td>\n",
       "      <td>Benzine</td>\n",
       "      <td>1000 - 1300 CC</td>\n",
       "      <td>Manual</td>\n",
       "      <td>78.0</td>\n",
       "      <td>Qena</td>\n",
       "      <td>189999.5</td>\n",
       "    </tr>\n",
       "    <tr>\n",
       "      <th>2</th>\n",
       "      <td>5339</td>\n",
       "      <td>Hyundai</td>\n",
       "      <td>Accent</td>\n",
       "      <td>Sedan</td>\n",
       "      <td>Gray</td>\n",
       "      <td>1999</td>\n",
       "      <td>Benzine</td>\n",
       "      <td>1400 - 1500 CC</td>\n",
       "      <td>Manual</td>\n",
       "      <td>70.0</td>\n",
       "      <td>Giza</td>\n",
       "      <td>149999.5</td>\n",
       "    </tr>\n",
       "    <tr>\n",
       "      <th>3</th>\n",
       "      <td>5340</td>\n",
       "      <td>Hyundai</td>\n",
       "      <td>Accent</td>\n",
       "      <td>Sedan</td>\n",
       "      <td>Blue- Navy Blue</td>\n",
       "      <td>2009</td>\n",
       "      <td>Benzine</td>\n",
       "      <td>1600 CC</td>\n",
       "      <td>Automatic</td>\n",
       "      <td>150.0</td>\n",
       "      <td>Cairo</td>\n",
       "      <td>149999.5</td>\n",
       "    </tr>\n",
       "    <tr>\n",
       "      <th>4</th>\n",
       "      <td>5341</td>\n",
       "      <td>Hyundai</td>\n",
       "      <td>Accent</td>\n",
       "      <td>Sedan</td>\n",
       "      <td>Silver</td>\n",
       "      <td>2000</td>\n",
       "      <td>Benzine</td>\n",
       "      <td>1000 - 1300 CC</td>\n",
       "      <td>Manual</td>\n",
       "      <td>75.0</td>\n",
       "      <td>Giza</td>\n",
       "      <td>14999.5</td>\n",
       "    </tr>\n",
       "  </tbody>\n",
       "</table>\n",
       "</div>"
      ],
      "text/plain": [
       "   Unnamed: 0    Brand   Model   Body            Color  Year     Fuel  \\\n",
       "0        5337  Hyundai  Accent  Sedan            Black  2007  Benzine   \n",
       "1        5338  Hyundai  Accent  Sedan           Silver  2005  Benzine   \n",
       "2        5339  Hyundai  Accent  Sedan             Gray  1999  Benzine   \n",
       "3        5340  Hyundai  Accent  Sedan  Blue- Navy Blue  2009  Benzine   \n",
       "4        5341  Hyundai  Accent  Sedan           Silver  2000  Benzine   \n",
       "\n",
       "           Engine Transmission  Price    Gov    KM_Adj  \n",
       "0         1600 CC    Automatic  140.0   Giza  149999.5  \n",
       "1  1000 - 1300 CC       Manual   78.0   Qena  189999.5  \n",
       "2  1400 - 1500 CC       Manual   70.0   Giza  149999.5  \n",
       "3         1600 CC    Automatic  150.0  Cairo  149999.5  \n",
       "4  1000 - 1300 CC       Manual   75.0   Giza   14999.5  "
      ]
     },
     "execution_count": 62,
     "metadata": {},
     "output_type": "execute_result"
    }
   ],
   "source": [
    "cars_v1.head()"
   ]
  },
  {
   "cell_type": "code",
   "execution_count": null,
   "id": "6ccd1391",
   "metadata": {},
   "outputs": [],
   "source": []
  },
  {
   "cell_type": "code",
   "execution_count": 63,
   "id": "e336b685",
   "metadata": {},
   "outputs": [],
   "source": [
    "cars_v1[['x', 'y']] = cars_v1['Engine'].str.extractall('(\\d+)').unstack().loc[:,0]"
   ]
  },
  {
   "cell_type": "code",
   "execution_count": 68,
   "id": "209af8e9",
   "metadata": {},
   "outputs": [],
   "source": [
    "cars_v1['x'] = cars_v1['x'].astype(int)"
   ]
  },
  {
   "cell_type": "code",
   "execution_count": 70,
   "id": "357897e7",
   "metadata": {},
   "outputs": [],
   "source": [
    "cars_v1['y'] = cars_v1['y'].astype(float)"
   ]
  },
  {
   "cell_type": "code",
   "execution_count": 77,
   "id": "47fd846e",
   "metadata": {},
   "outputs": [],
   "source": [
    "cars_v1.loc[cars_v1['y'].isnull() , 'y'] = cars_v1['x']"
   ]
  },
  {
   "cell_type": "code",
   "execution_count": 79,
   "id": "d834de61",
   "metadata": {},
   "outputs": [],
   "source": [
    "cars_v1['CC'] = cars_v1[['x', 'y']].mean(axis=1)"
   ]
  },
  {
   "cell_type": "code",
   "execution_count": 81,
   "id": "e44e8ec9",
   "metadata": {},
   "outputs": [],
   "source": [
    "cars_v1.drop(['x','y'],axis =1 , inplace = True)"
   ]
  },
  {
   "cell_type": "code",
   "execution_count": 84,
   "id": "cd9acc86",
   "metadata": {},
   "outputs": [],
   "source": [
    "cars_v1.drop(['Unnamed: 0'],axis =1 , inplace = True)"
   ]
  },
  {
   "cell_type": "code",
   "execution_count": 85,
   "id": "65e543eb",
   "metadata": {},
   "outputs": [
    {
     "data": {
      "text/plain": [
       "<seaborn.axisgrid.PairGrid at 0x18c03217fa0>"
      ]
     },
     "execution_count": 85,
     "metadata": {},
     "output_type": "execute_result"
    },
    {
     "data": {
      "image/png": "[encoded data removed]",
      "text/plain": [
       "<Figure size 720x720 with 20 Axes>"
      ]
     },
     "metadata": {
      "needs_background": "light"
     },
     "output_type": "display_data"
    }
   ],
   "source": [
    "sns.pairplot(cars_v1)"
   ]
  },
  {
   "cell_type": "code",
   "execution_count": 86,
   "id": "14c48402",
   "metadata": {},
   "outputs": [
    {
     "data": {
      "text/plain": [
       "(array([4098., 2394., 3274., 2762.,  921.,  604.,  371.,  204.,   95.,\n",
       "          18.]),\n",
       " array([  3.  ,  49.85,  96.7 , 143.55, 190.4 , 237.25, 284.1 , 330.95,\n",
       "        377.8 , 424.65, 471.5 ]),\n",
       " <BarContainer object of 10 artists>)"
      ]
     },
     "execution_count": 86,
     "metadata": {},
     "output_type": "execute_result"
    },
    {
     "data": {
      "image/png": "[encoded data removed]",
      "text/plain": [
       "<Figure size 432x288 with 1 Axes>"
      ]
     },
     "metadata": {
      "needs_background": "light"
     },
     "output_type": "display_data"
    }
   ],
   "source": [
    "plt.hist(cars_v1['Price'])"
   ]
  },
  {
   "cell_type": "markdown",
   "id": "65f2647d",
   "metadata": {},
   "source": [
    "## Starting the regression"
   ]
  },
  {
   "cell_type": "code",
   "execution_count": 88,
   "id": "b2775015",
   "metadata": {},
   "outputs": [],
   "source": [
    "y= cars_v1['Price']\n",
    "x1 = cars_v1['Year']"
   ]
  },
  {
   "cell_type": "code",
   "execution_count": 89,
   "id": "c2e3da77",
   "metadata": {},
   "outputs": [
    {
     "data": {
      "image/png": "[encoded data removed]",
      "text/plain": [
       "<Figure size 432x288 with 1 Axes>"
      ]
     },
     "metadata": {
      "needs_background": "light"
     },
     "output_type": "display_data"
    }
   ],
   "source": [
    "plt.scatter(y,x1)\n",
    "plt.xlabel('Price',fontsize= 20)\n",
    "plt.ylabel('Year',fontsize= 20)\n",
    "plt.show()"
   ]
  },
  {
   "cell_type": "code",
   "execution_count": 90,
   "id": "b5655f07",
   "metadata": {},
   "outputs": [
    {
     "data": {
      "text/html": [
       "<table class=\"simpletable\">\n",
       "<caption>OLS Regression Results</caption>\n",
       "<tr>\n",
       "  <th>Dep. Variable:</th>          <td>Price</td>      <th>  R-squared:         </th> <td>   0.600</td> \n",
       "</tr>\n",
       "<tr>\n",
       "  <th>Model:</th>                   <td>OLS</td>       <th>  Adj. R-squared:    </th> <td>   0.599</td> \n",
       "</tr>\n",
       "<tr>\n",
       "  <th>Method:</th>             <td>Least Squares</td>  <th>  F-statistic:       </th> <td>2.206e+04</td>\n",
       "</tr>\n",
       "<tr>\n",
       "  <th>Date:</th>             <td>Thu, 10 Nov 2022</td> <th>  Prob (F-statistic):</th>  <td>  0.00</td>  \n",
       "</tr>\n",
       "<tr>\n",
       "  <th>Time:</th>                 <td>12:48:49</td>     <th>  Log-Likelihood:    </th> <td> -79165.</td> \n",
       "</tr>\n",
       "<tr>\n",
       "  <th>No. Observations:</th>      <td> 14741</td>      <th>  AIC:               </th> <td>1.583e+05</td>\n",
       "</tr>\n",
       "<tr>\n",
       "  <th>Df Residuals:</th>          <td> 14739</td>      <th>  BIC:               </th> <td>1.584e+05</td>\n",
       "</tr>\n",
       "<tr>\n",
       "  <th>Df Model:</th>              <td>     1</td>      <th>                     </th>     <td> </td>    \n",
       "</tr>\n",
       "<tr>\n",
       "  <th>Covariance Type:</th>      <td>nonrobust</td>    <th>                     </th>     <td> </td>    \n",
       "</tr>\n",
       "</table>\n",
       "<table class=\"simpletable\">\n",
       "<tr>\n",
       "    <td></td>       <th>coef</th>     <th>std err</th>      <th>t</th>      <th>P>|t|</th>  <th>[0.025</th>    <th>0.975]</th>  \n",
       "</tr>\n",
       "<tr>\n",
       "  <th>const</th> <td>-9968.2243</td> <td>   67.894</td> <td> -146.821</td> <td> 0.000</td> <td>-1.01e+04</td> <td>-9835.144</td>\n",
       "</tr>\n",
       "<tr>\n",
       "  <th>Year</th>  <td>    5.0287</td> <td>    0.034</td> <td>  148.541</td> <td> 0.000</td> <td>    4.962</td> <td>    5.095</td>\n",
       "</tr>\n",
       "</table>\n",
       "<table class=\"simpletable\">\n",
       "<tr>\n",
       "  <th>Omnibus:</th>       <td>3085.001</td> <th>  Durbin-Watson:     </th> <td>   0.913</td>\n",
       "</tr>\n",
       "<tr>\n",
       "  <th>Prob(Omnibus):</th>  <td> 0.000</td>  <th>  Jarque-Bera (JB):  </th> <td>7142.836</td>\n",
       "</tr>\n",
       "<tr>\n",
       "  <th>Skew:</th>           <td> 1.183</td>  <th>  Prob(JB):          </th> <td>    0.00</td>\n",
       "</tr>\n",
       "<tr>\n",
       "  <th>Kurtosis:</th>       <td> 5.455</td>  <th>  Cond. No.          </th> <td>3.18e+05</td>\n",
       "</tr>\n",
       "</table><br/><br/>Notes:<br/>[1] Standard Errors assume that the covariance matrix of the errors is correctly specified.<br/>[2] The condition number is large, 3.18e+05. This might indicate that there are<br/>strong multicollinearity or other numerical problems."
      ],
      "text/plain": [
       "<class 'statsmodels.iolib.summary.Summary'>\n",
       "\"\"\"\n",
       "                            OLS Regression Results                            \n",
       "==============================================================================\n",
       "Dep. Variable:                  Price   R-squared:                       0.600\n",
       "Model:                            OLS   Adj. R-squared:                  0.599\n",
       "Method:                 Least Squares   F-statistic:                 2.206e+04\n",
       "Date:                Thu, 10 Nov 2022   Prob (F-statistic):               0.00\n",
       "Time:                        12:48:49   Log-Likelihood:                -79165.\n",
       "No. Observations:               14741   AIC:                         1.583e+05\n",
       "Df Residuals:                   14739   BIC:                         1.584e+05\n",
       "Df Model:                           1                                         \n",
       "Covariance Type:            nonrobust                                         \n",
       "==============================================================================\n",
       "                 coef    std err          t      P>|t|      [0.025      0.975]\n",
       "------------------------------------------------------------------------------\n",
       "const      -9968.2243     67.894   -146.821      0.000   -1.01e+04   -9835.144\n",
       "Year           5.0287      0.034    148.541      0.000       4.962       5.095\n",
       "==============================================================================\n",
       "Omnibus:                     3085.001   Durbin-Watson:                   0.913\n",
       "Prob(Omnibus):                  0.000   Jarque-Bera (JB):             7142.836\n",
       "Skew:                           1.183   Prob(JB):                         0.00\n",
       "Kurtosis:                       5.455   Cond. No.                     3.18e+05\n",
       "==============================================================================\n",
       "\n",
       "Notes:\n",
       "[1] Standard Errors assume that the covariance matrix of the errors is correctly specified.\n",
       "[2] The condition number is large, 3.18e+05. This might indicate that there are\n",
       "strong multicollinearity or other numerical problems.\n",
       "\"\"\""
      ]
     },
     "execution_count": 90,
     "metadata": {},
     "output_type": "execute_result"
    }
   ],
   "source": [
    "x = sm.add_constant(x1)\n",
    "results = sm.OLS(y,x).fit()\n",
    "results.summary()"
   ]
  },
  {
   "cell_type": "code",
   "execution_count": 91,
   "id": "2bac9026",
   "metadata": {},
   "outputs": [
    {
     "data": {
      "image/png": "[encoded data removed]",
      "text/plain": [
       "<Figure size 432x288 with 1 Axes>"
      ]
     },
     "metadata": {
      "needs_background": "light"
     },
     "output_type": "display_data"
    }
   ],
   "source": [
    "plt.scatter(x1,y)\n",
    "y_hat = -9968.2243 + 5.0287* cars_v1['Year']\n",
    "fig = plt.plot(x1, y_hat, lw=4, c= 'orange')\n",
    "plt.ylabel('Price', fontsize= 20)\n",
    "plt.xlabel('Year', fontsize= 20)\n",
    "plt.show()"
   ]
  },
  {
   "cell_type": "code",
   "execution_count": 92,
   "id": "0d965164",
   "metadata": {},
   "outputs": [],
   "source": [
    "y= cars_v1['Price']\n",
    "x1 = cars_v1[['Year', 'KM_Adj']]"
   ]
  },
  {
   "cell_type": "code",
   "execution_count": 93,
   "id": "95d20baa",
   "metadata": {},
   "outputs": [
    {
     "data": {
      "text/html": [
       "<table class=\"simpletable\">\n",
       "<caption>OLS Regression Results</caption>\n",
       "<tr>\n",
       "  <th>Dep. Variable:</th>          <td>Price</td>      <th>  R-squared:         </th> <td>   0.601</td> \n",
       "</tr>\n",
       "<tr>\n",
       "  <th>Model:</th>                   <td>OLS</td>       <th>  Adj. R-squared:    </th> <td>   0.601</td> \n",
       "</tr>\n",
       "<tr>\n",
       "  <th>Method:</th>             <td>Least Squares</td>  <th>  F-statistic:       </th> <td>1.110e+04</td>\n",
       "</tr>\n",
       "<tr>\n",
       "  <th>Date:</th>             <td>Thu, 10 Nov 2022</td> <th>  Prob (F-statistic):</th>  <td>  0.00</td>  \n",
       "</tr>\n",
       "<tr>\n",
       "  <th>Time:</th>                 <td>13:07:33</td>     <th>  Log-Likelihood:    </th> <td> -79137.</td> \n",
       "</tr>\n",
       "<tr>\n",
       "  <th>No. Observations:</th>      <td> 14741</td>      <th>  AIC:               </th> <td>1.583e+05</td>\n",
       "</tr>\n",
       "<tr>\n",
       "  <th>Df Residuals:</th>          <td> 14738</td>      <th>  BIC:               </th> <td>1.583e+05</td>\n",
       "</tr>\n",
       "<tr>\n",
       "  <th>Df Model:</th>              <td>     2</td>      <th>                     </th>     <td> </td>    \n",
       "</tr>\n",
       "<tr>\n",
       "  <th>Covariance Type:</th>      <td>nonrobust</td>    <th>                     </th>     <td> </td>    \n",
       "</tr>\n",
       "</table>\n",
       "<table class=\"simpletable\">\n",
       "<tr>\n",
       "     <td></td>       <th>coef</th>     <th>std err</th>      <th>t</th>      <th>P>|t|</th>  <th>[0.025</th>    <th>0.975]</th>  \n",
       "</tr>\n",
       "<tr>\n",
       "  <th>const</th>  <td>-9842.2165</td> <td>   69.780</td> <td> -141.045</td> <td> 0.000</td> <td>-9978.995</td> <td>-9705.438</td>\n",
       "</tr>\n",
       "<tr>\n",
       "  <th>Year</th>   <td>    4.9684</td> <td>    0.035</td> <td>  143.121</td> <td> 0.000</td> <td>    4.900</td> <td>    5.036</td>\n",
       "</tr>\n",
       "<tr>\n",
       "  <th>KM_Adj</th> <td>-4.757e-05</td> <td> 6.29e-06</td> <td>   -7.567</td> <td> 0.000</td> <td>-5.99e-05</td> <td>-3.52e-05</td>\n",
       "</tr>\n",
       "</table>\n",
       "<table class=\"simpletable\">\n",
       "<tr>\n",
       "  <th>Omnibus:</th>       <td>2957.006</td> <th>  Durbin-Watson:     </th> <td>   0.914</td>\n",
       "</tr>\n",
       "<tr>\n",
       "  <th>Prob(Omnibus):</th>  <td> 0.000</td>  <th>  Jarque-Bera (JB):  </th> <td>6662.742</td>\n",
       "</tr>\n",
       "<tr>\n",
       "  <th>Skew:</th>           <td> 1.148</td>  <th>  Prob(JB):          </th> <td>    0.00</td>\n",
       "</tr>\n",
       "<tr>\n",
       "  <th>Kurtosis:</th>       <td> 5.361</td>  <th>  Cond. No.          </th> <td>2.11e+07</td>\n",
       "</tr>\n",
       "</table><br/><br/>Notes:<br/>[1] Standard Errors assume that the covariance matrix of the errors is correctly specified.<br/>[2] The condition number is large, 2.11e+07. This might indicate that there are<br/>strong multicollinearity or other numerical problems."
      ],
      "text/plain": [
       "<class 'statsmodels.iolib.summary.Summary'>\n",
       "\"\"\"\n",
       "                            OLS Regression Results                            \n",
       "==============================================================================\n",
       "Dep. Variable:                  Price   R-squared:                       0.601\n",
       "Model:                            OLS   Adj. R-squared:                  0.601\n",
       "Method:                 Least Squares   F-statistic:                 1.110e+04\n",
       "Date:                Thu, 10 Nov 2022   Prob (F-statistic):               0.00\n",
       "Time:                        13:07:33   Log-Likelihood:                -79137.\n",
       "No. Observations:               14741   AIC:                         1.583e+05\n",
       "Df Residuals:                   14738   BIC:                         1.583e+05\n",
       "Df Model:                           2                                         \n",
       "Covariance Type:            nonrobust                                         \n",
       "==============================================================================\n",
       "                 coef    std err          t      P>|t|      [0.025      0.975]\n",
       "------------------------------------------------------------------------------\n",
       "const      -9842.2165     69.780   -141.045      0.000   -9978.995   -9705.438\n",
       "Year           4.9684      0.035    143.121      0.000       4.900       5.036\n",
       "KM_Adj     -4.757e-05   6.29e-06     -7.567      0.000   -5.99e-05   -3.52e-05\n",
       "==============================================================================\n",
       "Omnibus:                     2957.006   Durbin-Watson:                   0.914\n",
       "Prob(Omnibus):                  0.000   Jarque-Bera (JB):             6662.742\n",
       "Skew:                           1.148   Prob(JB):                         0.00\n",
       "Kurtosis:                       5.361   Cond. No.                     2.11e+07\n",
       "==============================================================================\n",
       "\n",
       "Notes:\n",
       "[1] Standard Errors assume that the covariance matrix of the errors is correctly specified.\n",
       "[2] The condition number is large, 2.11e+07. This might indicate that there are\n",
       "strong multicollinearity or other numerical problems.\n",
       "\"\"\""
      ]
     },
     "execution_count": 93,
     "metadata": {},
     "output_type": "execute_result"
    }
   ],
   "source": [
    "x = sm.add_constant(x1)\n",
    "results = sm.OLS(y,x).fit()\n",
    "results.summary()"
   ]
  },
  {
   "cell_type": "markdown",
   "id": "b8238c3c",
   "metadata": {},
   "source": [
    "## Test OLS Assumptions"
   ]
  },
  {
   "cell_type": "code",
   "execution_count": 94,
   "id": "4fb10fdb",
   "metadata": {},
   "outputs": [],
   "source": [
    "cars_v1['cairo'] = cars_v1['Gov']"
   ]
  },
  {
   "cell_type": "code",
   "execution_count": 95,
   "id": "8e202683",
   "metadata": {},
   "outputs": [],
   "source": [
    "cars_v1.loc[cars_v1['cairo'] == 'Cairo' , 'cairo'] = 'Cairo'"
   ]
  },
  {
   "cell_type": "code",
   "execution_count": 96,
   "id": "6315a50e",
   "metadata": {},
   "outputs": [],
   "source": [
    "cars_v1.loc[cars_v1['cairo'] != 'Cairo' , 'cairo'] = 'Not_Cairo'"
   ]
  },
  {
   "cell_type": "code",
   "execution_count": 97,
   "id": "5865322a",
   "metadata": {},
   "outputs": [
    {
     "data": {
      "text/plain": [
       "Not_Cairo    10283\n",
       "Cairo         4458\n",
       "Name: cairo, dtype: int64"
      ]
     },
     "execution_count": 97,
     "metadata": {},
     "output_type": "execute_result"
    }
   ],
   "source": [
    "cars_v1['cairo'].value_counts()"
   ]
  },
  {
   "cell_type": "code",
   "execution_count": 98,
   "id": "ea64419b",
   "metadata": {},
   "outputs": [],
   "source": [
    "cars_v1['cairo'] = cars_v1['cairo'].map({'Cairo':1,\"Not_Cairo\":0}) "
   ]
  },
  {
   "cell_type": "code",
   "execution_count": 99,
   "id": "07bdb683",
   "metadata": {},
   "outputs": [
    {
     "data": {
      "text/plain": [
       "0    10283\n",
       "1     4458\n",
       "Name: cairo, dtype: int64"
      ]
     },
     "execution_count": 99,
     "metadata": {},
     "output_type": "execute_result"
    }
   ],
   "source": [
    "cars_v1['cairo'].value_counts()"
   ]
  },
  {
   "cell_type": "code",
   "execution_count": 100,
   "id": "1c68042f",
   "metadata": {},
   "outputs": [],
   "source": [
    "y= cars_v1['Price']\n",
    "x1 = cars_v1[['Year', 'cairo']]"
   ]
  },
  {
   "cell_type": "code",
   "execution_count": 101,
   "id": "cc0856ce",
   "metadata": {},
   "outputs": [
    {
     "data": {
      "text/html": [
       "<table class=\"simpletable\">\n",
       "<caption>OLS Regression Results</caption>\n",
       "<tr>\n",
       "  <th>Dep. Variable:</th>          <td>Price</td>      <th>  R-squared:         </th> <td>   0.600</td> \n",
       "</tr>\n",
       "<tr>\n",
       "  <th>Model:</th>                   <td>OLS</td>       <th>  Adj. R-squared:    </th> <td>   0.599</td> \n",
       "</tr>\n",
       "<tr>\n",
       "  <th>Method:</th>             <td>Least Squares</td>  <th>  F-statistic:       </th> <td>1.103e+04</td>\n",
       "</tr>\n",
       "<tr>\n",
       "  <th>Date:</th>             <td>Thu, 10 Nov 2022</td> <th>  Prob (F-statistic):</th>  <td>  0.00</td>  \n",
       "</tr>\n",
       "<tr>\n",
       "  <th>Time:</th>                 <td>13:49:43</td>     <th>  Log-Likelihood:    </th> <td> -79165.</td> \n",
       "</tr>\n",
       "<tr>\n",
       "  <th>No. Observations:</th>      <td> 14741</td>      <th>  AIC:               </th> <td>1.583e+05</td>\n",
       "</tr>\n",
       "<tr>\n",
       "  <th>Df Residuals:</th>          <td> 14738</td>      <th>  BIC:               </th> <td>1.584e+05</td>\n",
       "</tr>\n",
       "<tr>\n",
       "  <th>Df Model:</th>              <td>     2</td>      <th>                     </th>     <td> </td>    \n",
       "</tr>\n",
       "<tr>\n",
       "  <th>Covariance Type:</th>      <td>nonrobust</td>    <th>                     </th>     <td> </td>    \n",
       "</tr>\n",
       "</table>\n",
       "<table class=\"simpletable\">\n",
       "<tr>\n",
       "    <td></td>       <th>coef</th>     <th>std err</th>      <th>t</th>      <th>P>|t|</th>  <th>[0.025</th>    <th>0.975]</th>  \n",
       "</tr>\n",
       "<tr>\n",
       "  <th>const</th> <td>-9967.9346</td> <td>   67.902</td> <td> -146.799</td> <td> 0.000</td> <td>-1.01e+04</td> <td>-9834.838</td>\n",
       "</tr>\n",
       "<tr>\n",
       "  <th>Year</th>  <td>    5.0285</td> <td>    0.034</td> <td>  148.508</td> <td> 0.000</td> <td>    4.962</td> <td>    5.095</td>\n",
       "</tr>\n",
       "<tr>\n",
       "  <th>cairo</th> <td>    0.2941</td> <td>    0.933</td> <td>    0.315</td> <td> 0.753</td> <td>   -1.535</td> <td>    2.123</td>\n",
       "</tr>\n",
       "</table>\n",
       "<table class=\"simpletable\">\n",
       "<tr>\n",
       "  <th>Omnibus:</th>       <td>3084.447</td> <th>  Durbin-Watson:     </th> <td>   0.913</td>\n",
       "</tr>\n",
       "<tr>\n",
       "  <th>Prob(Omnibus):</th>  <td> 0.000</td>  <th>  Jarque-Bera (JB):  </th> <td>7142.306</td>\n",
       "</tr>\n",
       "<tr>\n",
       "  <th>Skew:</th>           <td> 1.183</td>  <th>  Prob(JB):          </th> <td>    0.00</td>\n",
       "</tr>\n",
       "<tr>\n",
       "  <th>Kurtosis:</th>       <td> 5.455</td>  <th>  Cond. No.          </th> <td>3.18e+05</td>\n",
       "</tr>\n",
       "</table><br/><br/>Notes:<br/>[1] Standard Errors assume that the covariance matrix of the errors is correctly specified.<br/>[2] The condition number is large, 3.18e+05. This might indicate that there are<br/>strong multicollinearity or other numerical problems."
      ],
      "text/plain": [
       "<class 'statsmodels.iolib.summary.Summary'>\n",
       "\"\"\"\n",
       "                            OLS Regression Results                            \n",
       "==============================================================================\n",
       "Dep. Variable:                  Price   R-squared:                       0.600\n",
       "Model:                            OLS   Adj. R-squared:                  0.599\n",
       "Method:                 Least Squares   F-statistic:                 1.103e+04\n",
       "Date:                Thu, 10 Nov 2022   Prob (F-statistic):               0.00\n",
       "Time:                        13:49:43   Log-Likelihood:                -79165.\n",
       "No. Observations:               14741   AIC:                         1.583e+05\n",
       "Df Residuals:                   14738   BIC:                         1.584e+05\n",
       "Df Model:                           2                                         \n",
       "Covariance Type:            nonrobust                                         \n",
       "==============================================================================\n",
       "                 coef    std err          t      P>|t|      [0.025      0.975]\n",
       "------------------------------------------------------------------------------\n",
       "const      -9967.9346     67.902   -146.799      0.000   -1.01e+04   -9834.838\n",
       "Year           5.0285      0.034    148.508      0.000       4.962       5.095\n",
       "cairo          0.2941      0.933      0.315      0.753      -1.535       2.123\n",
       "==============================================================================\n",
       "Omnibus:                     3084.447   Durbin-Watson:                   0.913\n",
       "Prob(Omnibus):                  0.000   Jarque-Bera (JB):             7142.306\n",
       "Skew:                           1.183   Prob(JB):                         0.00\n",
       "Kurtosis:                       5.455   Cond. No.                     3.18e+05\n",
       "==============================================================================\n",
       "\n",
       "Notes:\n",
       "[1] Standard Errors assume that the covariance matrix of the errors is correctly specified.\n",
       "[2] The condition number is large, 3.18e+05. This might indicate that there are\n",
       "strong multicollinearity or other numerical problems.\n",
       "\"\"\""
      ]
     },
     "execution_count": 101,
     "metadata": {},
     "output_type": "execute_result"
    }
   ],
   "source": [
    "x = sm.add_constant(x1)\n",
    "results = sm.OLS(y,x).fit()\n",
    "results.summary()"
   ]
  },
  {
   "cell_type": "markdown",
   "id": "1d477720",
   "metadata": {},
   "source": [
    "### Not Significant, Try another Factor"
   ]
  },
  {
   "cell_type": "code",
   "execution_count": 103,
   "id": "0ba1ec17",
   "metadata": {},
   "outputs": [
    {
     "data": {
      "text/plain": [
       "1600.0    6762\n",
       "1450.0    4356\n",
       "1150.0    3623\n",
       "Name: CC, dtype: int64"
      ]
     },
     "execution_count": 103,
     "metadata": {},
     "output_type": "execute_result"
    }
   ],
   "source": [
    "cars_v1['CC'].value_counts()"
   ]
  },
  {
   "cell_type": "code",
   "execution_count": 104,
   "id": "11a3f863",
   "metadata": {},
   "outputs": [],
   "source": [
    "cars_v1['new_CC'] = cars_v1['CC'].map({1600.0:1, 1450.0:0 ,1150.0:0 })"
   ]
  },
  {
   "cell_type": "code",
   "execution_count": 106,
   "id": "8016d035",
   "metadata": {},
   "outputs": [
    {
     "data": {
      "text/plain": [
       "0    7979\n",
       "1    6762\n",
       "Name: new_CC, dtype: int64"
      ]
     },
     "execution_count": 106,
     "metadata": {},
     "output_type": "execute_result"
    }
   ],
   "source": [
    "cars_v1['new_CC'].value_counts()"
   ]
  },
  {
   "cell_type": "code",
   "execution_count": 107,
   "id": "05222131",
   "metadata": {},
   "outputs": [],
   "source": [
    "y= cars_v1['Price']\n",
    "x1 = cars_v1[['Year', 'new_CC']]"
   ]
  },
  {
   "cell_type": "code",
   "execution_count": 108,
   "id": "fd428f49",
   "metadata": {},
   "outputs": [
    {
     "data": {
      "text/html": [
       "<table class=\"simpletable\">\n",
       "<caption>OLS Regression Results</caption>\n",
       "<tr>\n",
       "  <th>Dep. Variable:</th>          <td>Price</td>      <th>  R-squared:         </th> <td>   0.662</td> \n",
       "</tr>\n",
       "<tr>\n",
       "  <th>Model:</th>                   <td>OLS</td>       <th>  Adj. R-squared:    </th> <td>   0.662</td> \n",
       "</tr>\n",
       "<tr>\n",
       "  <th>Method:</th>             <td>Least Squares</td>  <th>  F-statistic:       </th> <td>1.441e+04</td>\n",
       "</tr>\n",
       "<tr>\n",
       "  <th>Date:</th>             <td>Thu, 10 Nov 2022</td> <th>  Prob (F-statistic):</th>  <td>  0.00</td>  \n",
       "</tr>\n",
       "<tr>\n",
       "  <th>Time:</th>                 <td>13:53:26</td>     <th>  Log-Likelihood:    </th> <td> -77923.</td> \n",
       "</tr>\n",
       "<tr>\n",
       "  <th>No. Observations:</th>      <td> 14741</td>      <th>  AIC:               </th> <td>1.559e+05</td>\n",
       "</tr>\n",
       "<tr>\n",
       "  <th>Df Residuals:</th>          <td> 14738</td>      <th>  BIC:               </th> <td>1.559e+05</td>\n",
       "</tr>\n",
       "<tr>\n",
       "  <th>Df Model:</th>              <td>     2</td>      <th>                     </th>     <td> </td>    \n",
       "</tr>\n",
       "<tr>\n",
       "  <th>Covariance Type:</th>      <td>nonrobust</td>    <th>                     </th>     <td> </td>    \n",
       "</tr>\n",
       "</table>\n",
       "<table class=\"simpletable\">\n",
       "<tr>\n",
       "     <td></td>       <th>coef</th>     <th>std err</th>      <th>t</th>      <th>P>|t|</th>  <th>[0.025</th>    <th>0.975]</th>  \n",
       "</tr>\n",
       "<tr>\n",
       "  <th>const</th>  <td>-8630.5232</td> <td>   67.498</td> <td> -127.863</td> <td> 0.000</td> <td>-8762.828</td> <td>-8498.218</td>\n",
       "</tr>\n",
       "<tr>\n",
       "  <th>Year</th>   <td>    4.3515</td> <td>    0.034</td> <td>  129.001</td> <td> 0.000</td> <td>    4.285</td> <td>    4.418</td>\n",
       "</tr>\n",
       "<tr>\n",
       "  <th>new_CC</th> <td>   44.5645</td> <td>    0.857</td> <td>   52.020</td> <td> 0.000</td> <td>   42.885</td> <td>   46.244</td>\n",
       "</tr>\n",
       "</table>\n",
       "<table class=\"simpletable\">\n",
       "<tr>\n",
       "  <th>Omnibus:</th>       <td>3154.650</td> <th>  Durbin-Watson:     </th> <td>   1.077</td>\n",
       "</tr>\n",
       "<tr>\n",
       "  <th>Prob(Omnibus):</th>  <td> 0.000</td>  <th>  Jarque-Bera (JB):  </th> <td>8964.914</td>\n",
       "</tr>\n",
       "<tr>\n",
       "  <th>Skew:</th>           <td> 1.128</td>  <th>  Prob(JB):          </th> <td>    0.00</td>\n",
       "</tr>\n",
       "<tr>\n",
       "  <th>Kurtosis:</th>       <td> 6.083</td>  <th>  Cond. No.          </th> <td>3.44e+05</td>\n",
       "</tr>\n",
       "</table><br/><br/>Notes:<br/>[1] Standard Errors assume that the covariance matrix of the errors is correctly specified.<br/>[2] The condition number is large, 3.44e+05. This might indicate that there are<br/>strong multicollinearity or other numerical problems."
      ],
      "text/plain": [
       "<class 'statsmodels.iolib.summary.Summary'>\n",
       "\"\"\"\n",
       "                            OLS Regression Results                            \n",
       "==============================================================================\n",
       "Dep. Variable:                  Price   R-squared:                       0.662\n",
       "Model:                            OLS   Adj. R-squared:                  0.662\n",
       "Method:                 Least Squares   F-statistic:                 1.441e+04\n",
       "Date:                Thu, 10 Nov 2022   Prob (F-statistic):               0.00\n",
       "Time:                        13:53:26   Log-Likelihood:                -77923.\n",
       "No. Observations:               14741   AIC:                         1.559e+05\n",
       "Df Residuals:                   14738   BIC:                         1.559e+05\n",
       "Df Model:                           2                                         \n",
       "Covariance Type:            nonrobust                                         \n",
       "==============================================================================\n",
       "                 coef    std err          t      P>|t|      [0.025      0.975]\n",
       "------------------------------------------------------------------------------\n",
       "const      -8630.5232     67.498   -127.863      0.000   -8762.828   -8498.218\n",
       "Year           4.3515      0.034    129.001      0.000       4.285       4.418\n",
       "new_CC        44.5645      0.857     52.020      0.000      42.885      46.244\n",
       "==============================================================================\n",
       "Omnibus:                     3154.650   Durbin-Watson:                   1.077\n",
       "Prob(Omnibus):                  0.000   Jarque-Bera (JB):             8964.914\n",
       "Skew:                           1.128   Prob(JB):                         0.00\n",
       "Kurtosis:                       6.083   Cond. No.                     3.44e+05\n",
       "==============================================================================\n",
       "\n",
       "Notes:\n",
       "[1] Standard Errors assume that the covariance matrix of the errors is correctly specified.\n",
       "[2] The condition number is large, 3.44e+05. This might indicate that there are\n",
       "strong multicollinearity or other numerical problems.\n",
       "\"\"\""
      ]
     },
     "execution_count": 108,
     "metadata": {},
     "output_type": "execute_result"
    }
   ],
   "source": [
    "x = sm.add_constant(x1)\n",
    "results = sm.OLS(y,x).fit()\n",
    "results.summary()"
   ]
  },
  {
   "cell_type": "markdown",
   "id": "7ae1c9bc",
   "metadata": {},
   "source": [
    "### Car CC is significant, maybe without combining is better, but now we are trying the binary"
   ]
  },
  {
   "cell_type": "code",
   "execution_count": 109,
   "id": "6e000979",
   "metadata": {},
   "outputs": [
    {
     "data": {
      "text/html": [
       "<div>\n",
       "<style scoped>\n",
       "    .dataframe tbody tr th:only-of-type {\n",
       "        vertical-align: middle;\n",
       "    }\n",
       "\n",
       "    .dataframe tbody tr th {\n",
       "        vertical-align: top;\n",
       "    }\n",
       "\n",
       "    .dataframe thead th {\n",
       "        text-align: right;\n",
       "    }\n",
       "</style>\n",
       "<table border=\"1\" class=\"dataframe\">\n",
       "  <thead>\n",
       "    <tr style=\"text-align: right;\">\n",
       "      <th></th>\n",
       "      <th>const</th>\n",
       "      <th>Year</th>\n",
       "      <th>new_CC</th>\n",
       "    </tr>\n",
       "  </thead>\n",
       "  <tbody>\n",
       "    <tr>\n",
       "      <th>0</th>\n",
       "      <td>1</td>\n",
       "      <td>1990</td>\n",
       "      <td>0</td>\n",
       "    </tr>\n",
       "    <tr>\n",
       "      <th>1</th>\n",
       "      <td>1</td>\n",
       "      <td>2015</td>\n",
       "      <td>1</td>\n",
       "    </tr>\n",
       "  </tbody>\n",
       "</table>\n",
       "</div>"
      ],
      "text/plain": [
       "   const  Year  new_CC\n",
       "0      1  1990       0\n",
       "1      1  2015       1"
      ]
     },
     "execution_count": 109,
     "metadata": {},
     "output_type": "execute_result"
    }
   ],
   "source": [
    "new_data =pd.DataFrame({'const':1, 'Year':[1990, 2015],'new_CC':[0,1]})\n",
    "new_data = new_data[['const','Year','new_CC']]\n",
    "new_data"
   ]
  },
  {
   "cell_type": "code",
   "execution_count": 111,
   "id": "e71b3f2e",
   "metadata": {},
   "outputs": [
    {
     "data": {
      "text/plain": [
       "0     28.882579\n",
       "1    182.233613\n",
       "dtype: float64"
      ]
     },
     "execution_count": 111,
     "metadata": {},
     "output_type": "execute_result"
    }
   ],
   "source": [
    "predections = results.predict(new_data)\n",
    "predections"
   ]
  },
  {
   "cell_type": "code",
   "execution_count": 124,
   "id": "e32a1204",
   "metadata": {},
   "outputs": [],
   "source": [
    "def pltcolor(lst):\n",
    "    cols=[]\n",
    "    for l in lst:\n",
    "        if l==0:\n",
    "            cols.append('red')\n",
    "        elif l==1:\n",
    "            cols.append('blue')\n",
    "    return cols\n",
    "# Create the colors list using the function above\n",
    "cols=pltcolor(cars_v1['new_CC'])\n"
   ]
  },
  {
   "cell_type": "code",
   "execution_count": 128,
   "id": "5541c53f",
   "metadata": {},
   "outputs": [
    {
     "data": {
      "text/plain": [
       "<matplotlib.collections.PathCollection at 0x18c0b764ac0>"
      ]
     },
     "execution_count": 128,
     "metadata": {},
     "output_type": "execute_result"
    },
    {
     "data": {
      "image/png": "[encoded data removed]",
      "text/plain": [
       "<Figure size 432x288 with 1 Axes>"
      ]
     },
     "metadata": {
      "needs_background": "light"
     },
     "output_type": "display_data"
    }
   ],
   "source": [
    "plt.yticks(np.arange(0, 500, step=20))\n",
    "plt.scatter(cars_v1['Year'],cars_v1['Price'],alpha = .1, c=cols)\n"
   ]
  },
  {
   "cell_type": "markdown",
   "id": "647920ef",
   "metadata": {},
   "source": [
    "## Using SKLearn"
   ]
  },
  {
   "cell_type": "code",
   "execution_count": 129,
   "id": "25446686",
   "metadata": {},
   "outputs": [],
   "source": [
    "from sklearn.linear_model import LinearRegression"
   ]
  },
  {
   "cell_type": "code",
   "execution_count": 130,
   "id": "a80cf873",
   "metadata": {},
   "outputs": [],
   "source": [
    "x = cars_v1['Year']\n",
    "y = cars_v1['Price']"
   ]
  },
  {
   "cell_type": "code",
   "execution_count": 132,
   "id": "6f5f1250",
   "metadata": {},
   "outputs": [
    {
     "data": {
      "text/plain": [
       "((14741,), (14741,))"
      ]
     },
     "execution_count": 132,
     "metadata": {},
     "output_type": "execute_result"
    }
   ],
   "source": [
    "x.shape, y.shape"
   ]
  },
  {
   "cell_type": "code",
   "execution_count": 137,
   "id": "2dc93e8f",
   "metadata": {},
   "outputs": [],
   "source": [
    "x_matrix = x.values.reshape(-1,1)"
   ]
  },
  {
   "cell_type": "code",
   "execution_count": 138,
   "id": "d2ffcfe3",
   "metadata": {},
   "outputs": [],
   "source": [
    "reg = LinearRegression()"
   ]
  },
  {
   "cell_type": "code",
   "execution_count": 140,
   "id": "0ea9a93f",
   "metadata": {},
   "outputs": [
    {
     "data": {
      "text/plain": [
       "LinearRegression()"
      ]
     },
     "execution_count": 140,
     "metadata": {},
     "output_type": "execute_result"
    }
   ],
   "source": [
    "reg.fit(x_matrix,y)"
   ]
  },
  {
   "cell_type": "code",
   "execution_count": 141,
   "id": "9f7aa330",
   "metadata": {},
   "outputs": [
    {
     "data": {
      "text/plain": [
       "0.5995221119507614"
      ]
     },
     "execution_count": 141,
     "metadata": {},
     "output_type": "execute_result"
    }
   ],
   "source": [
    "reg.score(x_matrix, y)"
   ]
  },
  {
   "cell_type": "code",
   "execution_count": 143,
   "id": "51835a51",
   "metadata": {},
   "outputs": [
    {
     "data": {
      "text/plain": [
       "array([5.02868432])"
      ]
     },
     "execution_count": 143,
     "metadata": {},
     "output_type": "execute_result"
    }
   ],
   "source": [
    "reg.coef_"
   ]
  },
  {
   "cell_type": "code",
   "execution_count": 144,
   "id": "0e8ef98f",
   "metadata": {},
   "outputs": [
    {
     "data": {
      "text/plain": [
       "-9968.224279816577"
      ]
     },
     "execution_count": 144,
     "metadata": {},
     "output_type": "execute_result"
    }
   ],
   "source": [
    "reg.intercept_"
   ]
  },
  {
   "cell_type": "code",
   "execution_count": 153,
   "id": "c6e54999",
   "metadata": {},
   "outputs": [
    {
     "data": {
      "text/plain": [
       "array([204.80409602])"
      ]
     },
     "execution_count": 153,
     "metadata": {},
     "output_type": "execute_result"
    }
   ],
   "source": [
    "reg.predict([[2023]])"
   ]
  },
  {
   "cell_type": "code",
   "execution_count": 154,
   "id": "af456fe7",
   "metadata": {},
   "outputs": [
    {
     "data": {
      "text/html": [
       "<div>\n",
       "<style scoped>\n",
       "    .dataframe tbody tr th:only-of-type {\n",
       "        vertical-align: middle;\n",
       "    }\n",
       "\n",
       "    .dataframe tbody tr th {\n",
       "        vertical-align: top;\n",
       "    }\n",
       "\n",
       "    .dataframe thead th {\n",
       "        text-align: right;\n",
       "    }\n",
       "</style>\n",
       "<table border=\"1\" class=\"dataframe\">\n",
       "  <thead>\n",
       "    <tr style=\"text-align: right;\">\n",
       "      <th></th>\n",
       "      <th>Year</th>\n",
       "    </tr>\n",
       "  </thead>\n",
       "  <tbody>\n",
       "    <tr>\n",
       "      <th>0</th>\n",
       "      <td>2000</td>\n",
       "    </tr>\n",
       "    <tr>\n",
       "      <th>1</th>\n",
       "      <td>2003</td>\n",
       "    </tr>\n",
       "    <tr>\n",
       "      <th>2</th>\n",
       "      <td>2005</td>\n",
       "    </tr>\n",
       "  </tbody>\n",
       "</table>\n",
       "</div>"
      ],
      "text/plain": [
       "   Year\n",
       "0  2000\n",
       "1  2003\n",
       "2  2005"
      ]
     },
     "execution_count": 154,
     "metadata": {},
     "output_type": "execute_result"
    }
   ],
   "source": [
    "new_data = pd.DataFrame(data= [2000,2003,2005],columns =['Year'])\n",
    "new_data"
   ]
  },
  {
   "cell_type": "code",
   "execution_count": 155,
   "id": "61755e5e",
   "metadata": {},
   "outputs": [
    {
     "name": "stderr",
     "output_type": "stream",
     "text": [
      "D:\\Data_Science\\Anaconda3\\lib\\site-packages\\sklearn\\base.py:443: UserWarning: X has feature names, but LinearRegression was fitted without feature names\n",
      "  warnings.warn(\n"
     ]
    },
    {
     "data": {
      "text/plain": [
       "array([ 89.1443567 , 104.23040966, 114.28777829])"
      ]
     },
     "execution_count": 155,
     "metadata": {},
     "output_type": "execute_result"
    }
   ],
   "source": [
    "reg.predict(new_data)"
   ]
  },
  {
   "cell_type": "code",
   "execution_count": 156,
   "id": "f9363157",
   "metadata": {},
   "outputs": [
    {
     "name": "stderr",
     "output_type": "stream",
     "text": [
      "D:\\Data_Science\\Anaconda3\\lib\\site-packages\\sklearn\\base.py:443: UserWarning: X has feature names, but LinearRegression was fitted without feature names\n",
      "  warnings.warn(\n"
     ]
    },
    {
     "data": {
      "text/html": [
       "<div>\n",
       "<style scoped>\n",
       "    .dataframe tbody tr th:only-of-type {\n",
       "        vertical-align: middle;\n",
       "    }\n",
       "\n",
       "    .dataframe tbody tr th {\n",
       "        vertical-align: top;\n",
       "    }\n",
       "\n",
       "    .dataframe thead th {\n",
       "        text-align: right;\n",
       "    }\n",
       "</style>\n",
       "<table border=\"1\" class=\"dataframe\">\n",
       "  <thead>\n",
       "    <tr style=\"text-align: right;\">\n",
       "      <th></th>\n",
       "      <th>Year</th>\n",
       "      <th>Predectied_Price</th>\n",
       "    </tr>\n",
       "  </thead>\n",
       "  <tbody>\n",
       "    <tr>\n",
       "      <th>0</th>\n",
       "      <td>2000</td>\n",
       "      <td>89.144357</td>\n",
       "    </tr>\n",
       "    <tr>\n",
       "      <th>1</th>\n",
       "      <td>2003</td>\n",
       "      <td>104.230410</td>\n",
       "    </tr>\n",
       "    <tr>\n",
       "      <th>2</th>\n",
       "      <td>2005</td>\n",
       "      <td>114.287778</td>\n",
       "    </tr>\n",
       "  </tbody>\n",
       "</table>\n",
       "</div>"
      ],
      "text/plain": [
       "   Year  Predectied_Price\n",
       "0  2000         89.144357\n",
       "1  2003        104.230410\n",
       "2  2005        114.287778"
      ]
     },
     "execution_count": 156,
     "metadata": {},
     "output_type": "execute_result"
    }
   ],
   "source": [
    "new_data['Predectied_Price']= reg.predict(new_data)\n",
    "new_data"
   ]
  },
  {
   "cell_type": "code",
   "execution_count": 157,
   "id": "a111fa53",
   "metadata": {},
   "outputs": [],
   "source": [
    "x = cars_v1[['Year','new_CC']]\n",
    "y = cars_v1['Price']"
   ]
  },
  {
   "cell_type": "code",
   "execution_count": 158,
   "id": "268e9e68",
   "metadata": {},
   "outputs": [
    {
     "data": {
      "text/plain": [
       "LinearRegression()"
      ]
     },
     "execution_count": 158,
     "metadata": {},
     "output_type": "execute_result"
    }
   ],
   "source": [
    "reg= LinearRegression()\n",
    "reg.fit(x,y)"
   ]
  },
  {
   "cell_type": "code",
   "execution_count": 159,
   "id": "c8d75565",
   "metadata": {},
   "outputs": [
    {
     "data": {
      "text/plain": [
       "array([ 4.3514602 , 44.56452889])"
      ]
     },
     "execution_count": 159,
     "metadata": {},
     "output_type": "execute_result"
    }
   ],
   "source": [
    "reg.coef_"
   ]
  },
  {
   "cell_type": "code",
   "execution_count": 160,
   "id": "7691ba18",
   "metadata": {},
   "outputs": [
    {
     "data": {
      "text/plain": [
       "-8630.523223118082"
      ]
     },
     "execution_count": 160,
     "metadata": {},
     "output_type": "execute_result"
    }
   ],
   "source": [
    "reg.intercept_"
   ]
  },
  {
   "cell_type": "markdown",
   "id": "06d3df90",
   "metadata": {},
   "source": [
    "### Formula for adjusted R^2\n",
    "\n",
    "$R^2_{adj.} = 1 - (1-R^2)*\\frac{n-1}{n-p-1}$"
   ]
  },
  {
   "cell_type": "code",
   "execution_count": 164,
   "id": "6d0b636f",
   "metadata": {},
   "outputs": [
    {
     "data": {
      "text/plain": [
       "0.6616009314286118"
      ]
     },
     "execution_count": 164,
     "metadata": {},
     "output_type": "execute_result"
    }
   ],
   "source": [
    "r2 = reg.score(x,y)\n",
    "\n",
    "n = x.shape[0]\n",
    "\n",
    "p = x.shape[1]\n",
    "\n",
    "adjusted_r2 = 1-(1-r2)*(n-1)/(n-p-1)\n",
    "adjusted_r2"
   ]
  },
  {
   "cell_type": "markdown",
   "id": "ff9a0056",
   "metadata": {},
   "source": [
    "## Feature selection"
   ]
  },
  {
   "cell_type": "code",
   "execution_count": 166,
   "id": "e7ebeba1",
   "metadata": {},
   "outputs": [],
   "source": [
    "from sklearn.feature_selection import f_regression"
   ]
  },
  {
   "cell_type": "code",
   "execution_count": 168,
   "id": "3af390f9",
   "metadata": {},
   "outputs": [
    {
     "data": {
      "text/plain": [
       "array([0., 0.])"
      ]
     },
     "execution_count": 168,
     "metadata": {},
     "output_type": "execute_result"
    }
   ],
   "source": [
    "f_regression(x,y)\n",
    "# 0 : f statistics\n",
    "# 1 : p value\n",
    "p_values = f_regression(x,y)[1]\n",
    "p_values.round(3)\n",
    "# P Value should be less than 5% to be significant\n"
   ]
  },
  {
   "cell_type": "markdown",
   "id": "1211d901",
   "metadata": {},
   "source": [
    "## Standrization"
   ]
  },
  {
   "cell_type": "code",
   "execution_count": 169,
   "id": "e74ccea7",
   "metadata": {},
   "outputs": [],
   "source": [
    "from sklearn.preprocessing import StandardScaler\n",
    "scaler = StandardScaler()"
   ]
  },
  {
   "cell_type": "code",
   "execution_count": 170,
   "id": "ad88cd03",
   "metadata": {},
   "outputs": [
    {
     "data": {
      "text/plain": [
       "StandardScaler()"
      ]
     },
     "execution_count": 170,
     "metadata": {},
     "output_type": "execute_result"
    }
   ],
   "source": [
    "scaler.fit(x)"
   ]
  },
  {
   "cell_type": "code",
   "execution_count": 179,
   "id": "478af44c",
   "metadata": {},
   "outputs": [],
   "source": [
    "x_scalled = scaler.transform(x)"
   ]
  },
  {
   "cell_type": "markdown",
   "id": "96056ec0",
   "metadata": {},
   "source": [
    "## Regression with Scalled features"
   ]
  },
  {
   "cell_type": "code",
   "execution_count": 180,
   "id": "5773c9e9",
   "metadata": {},
   "outputs": [
    {
     "data": {
      "text/plain": [
       "LinearRegression()"
      ]
     },
     "execution_count": 180,
     "metadata": {},
     "output_type": "execute_result"
    }
   ],
   "source": [
    "reg= LinearRegression()\n",
    "reg.fit(x_scalled,y)"
   ]
  },
  {
   "cell_type": "code",
   "execution_count": 182,
   "id": "9d7d27a1",
   "metadata": {},
   "outputs": [
    {
     "data": {
      "text/plain": [
       "array([55.06832355, 22.20619705])"
      ]
     },
     "execution_count": 182,
     "metadata": {},
     "output_type": "execute_result"
    }
   ],
   "source": [
    "reg.coef_"
   ]
  },
  {
   "cell_type": "code",
   "execution_count": 183,
   "id": "c442dacc",
   "metadata": {},
   "outputs": [
    {
     "data": {
      "text/plain": [
       "116.5849874499691"
      ]
     },
     "execution_count": 183,
     "metadata": {},
     "output_type": "execute_result"
    }
   ],
   "source": [
    "reg.intercept_"
   ]
  },
  {
   "cell_type": "code",
   "execution_count": 186,
   "id": "b5a687e7",
   "metadata": {},
   "outputs": [
    {
     "data": {
      "text/plain": [
       "0.6616009314286119"
      ]
     },
     "execution_count": 186,
     "metadata": {},
     "output_type": "execute_result"
    }
   ],
   "source": [
    "r2 = reg.score(x_scalled,y)\n",
    "n = x_scalled.shape[0]\n",
    "p = x_scalled.shape[1]\n",
    "\n",
    "adjusted_r2 = 1-(1-r2)*(n-1)/(n-p-1)\n",
    "adjusted_r2"
   ]
  },
  {
   "cell_type": "code",
   "execution_count": 189,
   "id": "c8d0776f",
   "metadata": {},
   "outputs": [],
   "source": [
    "reg_summary = pd.DataFrame([['Intercept'],['Year'],[\"new_CC\"]],columns=['features'])\n",
    "reg_summary['weight'] = reg.intercept_, reg.coef_[0],reg.coef_[1]  "
   ]
  },
  {
   "cell_type": "code",
   "execution_count": 190,
   "id": "e0de755e",
   "metadata": {},
   "outputs": [
    {
     "data": {
      "text/html": [
       "<div>\n",
       "<style scoped>\n",
       "    .dataframe tbody tr th:only-of-type {\n",
       "        vertical-align: middle;\n",
       "    }\n",
       "\n",
       "    .dataframe tbody tr th {\n",
       "        vertical-align: top;\n",
       "    }\n",
       "\n",
       "    .dataframe thead th {\n",
       "        text-align: right;\n",
       "    }\n",
       "</style>\n",
       "<table border=\"1\" class=\"dataframe\">\n",
       "  <thead>\n",
       "    <tr style=\"text-align: right;\">\n",
       "      <th></th>\n",
       "      <th>features</th>\n",
       "      <th>weight</th>\n",
       "    </tr>\n",
       "  </thead>\n",
       "  <tbody>\n",
       "    <tr>\n",
       "      <th>0</th>\n",
       "      <td>Intercept</td>\n",
       "      <td>116.584987</td>\n",
       "    </tr>\n",
       "    <tr>\n",
       "      <th>1</th>\n",
       "      <td>Year</td>\n",
       "      <td>55.068324</td>\n",
       "    </tr>\n",
       "    <tr>\n",
       "      <th>2</th>\n",
       "      <td>new_CC</td>\n",
       "      <td>22.206197</td>\n",
       "    </tr>\n",
       "  </tbody>\n",
       "</table>\n",
       "</div>"
      ],
      "text/plain": [
       "    features      weight\n",
       "0  Intercept  116.584987\n",
       "1       Year   55.068324\n",
       "2     new_CC   22.206197"
      ]
     },
     "execution_count": 190,
     "metadata": {},
     "output_type": "execute_result"
    }
   ],
   "source": [
    "reg_summary"
   ]
  },
  {
   "cell_type": "code",
   "execution_count": 197,
   "id": "8a779c88",
   "metadata": {},
   "outputs": [
    {
     "data": {
      "text/html": [
       "<div>\n",
       "<style scoped>\n",
       "    .dataframe tbody tr th:only-of-type {\n",
       "        vertical-align: middle;\n",
       "    }\n",
       "\n",
       "    .dataframe tbody tr th {\n",
       "        vertical-align: top;\n",
       "    }\n",
       "\n",
       "    .dataframe thead th {\n",
       "        text-align: right;\n",
       "    }\n",
       "</style>\n",
       "<table border=\"1\" class=\"dataframe\">\n",
       "  <thead>\n",
       "    <tr style=\"text-align: right;\">\n",
       "      <th></th>\n",
       "      <th>Year</th>\n",
       "      <th>new_CC</th>\n",
       "    </tr>\n",
       "  </thead>\n",
       "  <tbody>\n",
       "    <tr>\n",
       "      <th>0</th>\n",
       "      <td>1990</td>\n",
       "      <td>0</td>\n",
       "    </tr>\n",
       "    <tr>\n",
       "      <th>1</th>\n",
       "      <td>2015</td>\n",
       "      <td>1</td>\n",
       "    </tr>\n",
       "    <tr>\n",
       "      <th>2</th>\n",
       "      <td>1990</td>\n",
       "      <td>1</td>\n",
       "    </tr>\n",
       "    <tr>\n",
       "      <th>3</th>\n",
       "      <td>2015</td>\n",
       "      <td>0</td>\n",
       "    </tr>\n",
       "  </tbody>\n",
       "</table>\n",
       "</div>"
      ],
      "text/plain": [
       "   Year  new_CC\n",
       "0  1990       0\n",
       "1  2015       1\n",
       "2  1990       1\n",
       "3  2015       0"
      ]
     },
     "execution_count": 197,
     "metadata": {},
     "output_type": "execute_result"
    }
   ],
   "source": [
    "new_data2 =pd.DataFrame({'Year':[1990, 2015,1990,2015],'new_CC':[0,1,1,0]})\n",
    "new_data2 = new_data2[['Year','new_CC']]\n",
    "new_data2"
   ]
  },
  {
   "cell_type": "code",
   "execution_count": 198,
   "id": "b8e5a6fa",
   "metadata": {},
   "outputs": [
    {
     "name": "stderr",
     "output_type": "stream",
     "text": [
      "D:\\Data_Science\\Anaconda3\\lib\\site-packages\\sklearn\\base.py:443: UserWarning: X has feature names, but LinearRegression was fitted without feature names\n",
      "  warnings.warn(\n"
     ]
    },
    {
     "data": {
      "text/plain": [
       "array([109702.54885003, 111101.46313581, 109724.75504708, 111079.25693875])"
      ]
     },
     "execution_count": 198,
     "metadata": {},
     "output_type": "execute_result"
    }
   ],
   "source": [
    "reg.predict(new_data2)"
   ]
  },
  {
   "cell_type": "code",
   "execution_count": 199,
   "id": "21adccad",
   "metadata": {},
   "outputs": [],
   "source": [
    "new_data2_scalled= scaler.transform(new_data2)"
   ]
  },
  {
   "cell_type": "code",
   "execution_count": 200,
   "id": "dac4a8c1",
   "metadata": {},
   "outputs": [
    {
     "data": {
      "text/plain": [
       "array([ 28.88257921, 182.23361315,  73.44710809, 137.66908426])"
      ]
     },
     "execution_count": 200,
     "metadata": {},
     "output_type": "execute_result"
    }
   ],
   "source": [
    "reg.predict(new_data2_scalled)"
   ]
  },
  {
   "cell_type": "code",
   "execution_count": null,
   "id": "b3a6296d",
   "metadata": {},
   "outputs": [],
   "source": []
  },
  {
   "cell_type": "code",
   "execution_count": 217,
   "id": "035b0330",
   "metadata": {},
   "outputs": [
    {
     "name": "stderr",
     "output_type": "stream",
     "text": [
      "D:\\Data_Science\\Anaconda3\\lib\\site-packages\\seaborn\\distributions.py:2619: FutureWarning: `distplot` is a deprecated function and will be removed in a future version. Please adapt your code to use either `displot` (a figure-level function with similar flexibility) or `histplot` (an axes-level function for histograms).\n",
      "  warnings.warn(msg, FutureWarning)\n"
     ]
    },
    {
     "data": {
      "text/plain": [
       "<AxesSubplot:xlabel='Price', ylabel='Density'>"
      ]
     },
     "execution_count": 217,
     "metadata": {},
     "output_type": "execute_result"
    },
    {
     "data": {
      "image/png": "[encoded data removed]",
      "text/plain": [
       "<Figure size 432x288 with 1 Axes>"
      ]
     },
     "metadata": {
      "needs_background": "light"
     },
     "output_type": "display_data"
    }
   ],
   "source": [
    "sns.distplot(cars_v1['Price'])"
   ]
  },
  {
   "cell_type": "code",
   "execution_count": 218,
   "id": "12d8a328",
   "metadata": {},
   "outputs": [],
   "source": [
    "price_log = np.log(cars_v1['Price'])"
   ]
  },
  {
   "cell_type": "code",
   "execution_count": 219,
   "id": "27a4b066",
   "metadata": {},
   "outputs": [
    {
     "name": "stderr",
     "output_type": "stream",
     "text": [
      "D:\\Data_Science\\Anaconda3\\lib\\site-packages\\seaborn\\distributions.py:2619: FutureWarning: `distplot` is a deprecated function and will be removed in a future version. Please adapt your code to use either `displot` (a figure-level function with similar flexibility) or `histplot` (an axes-level function for histograms).\n",
      "  warnings.warn(msg, FutureWarning)\n"
     ]
    },
    {
     "data": {
      "text/plain": [
       "<AxesSubplot:xlabel='Price', ylabel='Density'>"
      ]
     },
     "execution_count": 219,
     "metadata": {},
     "output_type": "execute_result"
    },
    {
     "data": {
      "image/png": "[encoded data removed]",
      "text/plain": [
       "<Figure size 432x288 with 1 Axes>"
      ]
     },
     "metadata": {
      "needs_background": "light"
     },
     "output_type": "display_data"
    }
   ],
   "source": [
    "sns.distplot(price_log)"
   ]
  },
  {
   "cell_type": "code",
   "execution_count": 228,
   "id": "0b04bfee",
   "metadata": {},
   "outputs": [
    {
     "data": {
      "text/plain": [
       "<matplotlib.collections.PathCollection at 0x18c0e1abb20>"
      ]
     },
     "execution_count": 228,
     "metadata": {},
     "output_type": "execute_result"
    },
    {
     "data": {
      "image/png": "[encoded data removed]",
      "text/plain": [
       "<Figure size 432x288 with 1 Axes>"
      ]
     },
     "metadata": {
      "needs_background": "light"
     },
     "output_type": "display_data"
    }
   ],
   "source": [
    "plt.scatter(cars_v1['new_CC'],cars_v1['Price'])"
   ]
  },
  {
   "cell_type": "code",
   "execution_count": 231,
   "id": "92e497f9",
   "metadata": {},
   "outputs": [
    {
     "data": {
      "text/plain": [
       "<matplotlib.collections.PathCollection at 0x18c0e2d37c0>"
      ]
     },
     "execution_count": 231,
     "metadata": {},
     "output_type": "execute_result"
    },
    {
     "data": {
      "image/png": "[encoded data removed]",
      "text/plain": [
       "<Figure size 432x288 with 1 Axes>"
      ]
     },
     "metadata": {
      "needs_background": "light"
     },
     "output_type": "display_data"
    }
   ],
   "source": [
    "plt.scatter(cars_v1['Year'],cars_v1['Price'])"
   ]
  },
  {
   "cell_type": "code",
   "execution_count": 230,
   "id": "1301d2f1",
   "metadata": {},
   "outputs": [
    {
     "data": {
      "text/plain": [
       "<matplotlib.collections.PathCollection at 0x18c0e18e130>"
      ]
     },
     "execution_count": 230,
     "metadata": {},
     "output_type": "execute_result"
    },
    {
     "data": {
      "image/png": "[encoded data removed]",
      "text/plain": [
       "<Figure size 432x288 with 1 Axes>"
      ]
     },
     "metadata": {
      "needs_background": "light"
     },
     "output_type": "display_data"
    }
   ],
   "source": [
    "plt.scatter(cars_v1['Year'],price_log)"
   ]
  },
  {
   "cell_type": "markdown",
   "id": "b379f481",
   "metadata": {},
   "source": [
    "## Multicollinearity"
   ]
  },
  {
   "cell_type": "code",
   "execution_count": 232,
   "id": "f1a76048",
   "metadata": {},
   "outputs": [],
   "source": [
    "from statsmodels.stats.outliers_influence import variance_inflation_factor"
   ]
  },
  {
   "cell_type": "code",
   "execution_count": 234,
   "id": "ed137675",
   "metadata": {},
   "outputs": [
    {
     "data": {
      "text/plain": [
       "array(['Brand', 'Model', 'Body', 'Color', 'Year', 'Fuel', 'Engine',\n",
       "       'Transmission', 'Price', 'Gov', 'KM_Adj', 'CC', 'cairo', 'new_CC'],\n",
       "      dtype=object)"
      ]
     },
     "execution_count": 234,
     "metadata": {},
     "output_type": "execute_result"
    }
   ],
   "source": [
    "cars_v1.columns.values"
   ]
  },
  {
   "cell_type": "code",
   "execution_count": 241,
   "id": "3506dacd",
   "metadata": {},
   "outputs": [],
   "source": [
    "variables = cars_v1[['Year', 'Price','KM_Adj', 'new_CC']]"
   ]
  },
  {
   "cell_type": "code",
   "execution_count": 242,
   "id": "3171c69a",
   "metadata": {},
   "outputs": [],
   "source": [
    "vif = pd.DataFrame()"
   ]
  },
  {
   "cell_type": "code",
   "execution_count": 243,
   "id": "15622869",
   "metadata": {},
   "outputs": [],
   "source": [
    "vif['VIF'] = [variance_inflation_factor(variables.values,i) for i in range(variables .shape[1])]"
   ]
  },
  {
   "cell_type": "code",
   "execution_count": 244,
   "id": "dfcb1e30",
   "metadata": {},
   "outputs": [],
   "source": [
    "vif['features'] = variables.columns"
   ]
  },
  {
   "cell_type": "code",
   "execution_count": 246,
   "id": "89dc1963",
   "metadata": {},
   "outputs": [
    {
     "data": {
      "text/html": [
       "<div>\n",
       "<style scoped>\n",
       "    .dataframe tbody tr th:only-of-type {\n",
       "        vertical-align: middle;\n",
       "    }\n",
       "\n",
       "    .dataframe tbody tr th {\n",
       "        vertical-align: top;\n",
       "    }\n",
       "\n",
       "    .dataframe thead th {\n",
       "        text-align: right;\n",
       "    }\n",
       "</style>\n",
       "<table border=\"1\" class=\"dataframe\">\n",
       "  <thead>\n",
       "    <tr style=\"text-align: right;\">\n",
       "      <th></th>\n",
       "      <th>VIF</th>\n",
       "      <th>features</th>\n",
       "    </tr>\n",
       "  </thead>\n",
       "  <tbody>\n",
       "    <tr>\n",
       "      <th>0</th>\n",
       "      <td>6.782124</td>\n",
       "      <td>Year</td>\n",
       "    </tr>\n",
       "    <tr>\n",
       "      <th>1</th>\n",
       "      <td>4.369353</td>\n",
       "      <td>Price</td>\n",
       "    </tr>\n",
       "    <tr>\n",
       "      <th>2</th>\n",
       "      <td>3.582898</td>\n",
       "      <td>KM_Adj</td>\n",
       "    </tr>\n",
       "    <tr>\n",
       "      <th>3</th>\n",
       "      <td>2.564681</td>\n",
       "      <td>new_CC</td>\n",
       "    </tr>\n",
       "  </tbody>\n",
       "</table>\n",
       "</div>"
      ],
      "text/plain": [
       "        VIF features\n",
       "0  6.782124     Year\n",
       "1  4.369353    Price\n",
       "2  3.582898   KM_Adj\n",
       "3  2.564681   new_CC"
      ]
     },
     "execution_count": 246,
     "metadata": {},
     "output_type": "execute_result"
    }
   ],
   "source": [
    "#values between 1 and 5 are good\n",
    "# 10 is not acceptable\n",
    "vif"
   ]
  },
  {
   "cell_type": "code",
   "execution_count": 251,
   "id": "ef8b19fe",
   "metadata": {},
   "outputs": [
    {
     "data": {
      "text/html": [
       "<div>\n",
       "<style scoped>\n",
       "    .dataframe tbody tr th:only-of-type {\n",
       "        vertical-align: middle;\n",
       "    }\n",
       "\n",
       "    .dataframe tbody tr th {\n",
       "        vertical-align: top;\n",
       "    }\n",
       "\n",
       "    .dataframe thead th {\n",
       "        text-align: right;\n",
       "    }\n",
       "</style>\n",
       "<table border=\"1\" class=\"dataframe\">\n",
       "  <thead>\n",
       "    <tr style=\"text-align: right;\">\n",
       "      <th></th>\n",
       "      <th>Brand</th>\n",
       "      <th>Model</th>\n",
       "      <th>Body</th>\n",
       "      <th>Color</th>\n",
       "      <th>Year</th>\n",
       "      <th>Fuel</th>\n",
       "      <th>Engine</th>\n",
       "      <th>Transmission</th>\n",
       "      <th>Price</th>\n",
       "      <th>Gov</th>\n",
       "      <th>KM_Adj</th>\n",
       "      <th>CC</th>\n",
       "      <th>cairo</th>\n",
       "      <th>new_CC</th>\n",
       "    </tr>\n",
       "  </thead>\n",
       "  <tbody>\n",
       "    <tr>\n",
       "      <th>count</th>\n",
       "      <td>14741</td>\n",
       "      <td>14741</td>\n",
       "      <td>14741</td>\n",
       "      <td>14741</td>\n",
       "      <td>14741.000000</td>\n",
       "      <td>14741</td>\n",
       "      <td>14741</td>\n",
       "      <td>14741</td>\n",
       "      <td>14741.000000</td>\n",
       "      <td>14741</td>\n",
       "      <td>14741.000000</td>\n",
       "      <td>14741.000000</td>\n",
       "      <td>14741.000000</td>\n",
       "      <td>14741.000000</td>\n",
       "    </tr>\n",
       "    <tr>\n",
       "      <th>unique</th>\n",
       "      <td>3</td>\n",
       "      <td>18</td>\n",
       "      <td>3</td>\n",
       "      <td>14</td>\n",
       "      <td>NaN</td>\n",
       "      <td>2</td>\n",
       "      <td>3</td>\n",
       "      <td>2</td>\n",
       "      <td>NaN</td>\n",
       "      <td>26</td>\n",
       "      <td>NaN</td>\n",
       "      <td>NaN</td>\n",
       "      <td>NaN</td>\n",
       "      <td>NaN</td>\n",
       "    </tr>\n",
       "    <tr>\n",
       "      <th>top</th>\n",
       "      <td>Hyundai</td>\n",
       "      <td>128</td>\n",
       "      <td>Sedan</td>\n",
       "      <td>White</td>\n",
       "      <td>NaN</td>\n",
       "      <td>Benzine</td>\n",
       "      <td>1600 CC</td>\n",
       "      <td>Manual</td>\n",
       "      <td>NaN</td>\n",
       "      <td>Cairo</td>\n",
       "      <td>NaN</td>\n",
       "      <td>NaN</td>\n",
       "      <td>NaN</td>\n",
       "      <td>NaN</td>\n",
       "    </tr>\n",
       "    <tr>\n",
       "      <th>freq</th>\n",
       "      <td>5692</td>\n",
       "      <td>2425</td>\n",
       "      <td>13453</td>\n",
       "      <td>2614</td>\n",
       "      <td>NaN</td>\n",
       "      <td>14200</td>\n",
       "      <td>6762</td>\n",
       "      <td>9862</td>\n",
       "      <td>NaN</td>\n",
       "      <td>4458</td>\n",
       "      <td>NaN</td>\n",
       "      <td>NaN</td>\n",
       "      <td>NaN</td>\n",
       "      <td>NaN</td>\n",
       "    </tr>\n",
       "    <tr>\n",
       "      <th>mean</th>\n",
       "      <td>NaN</td>\n",
       "      <td>NaN</td>\n",
       "      <td>NaN</td>\n",
       "      <td>NaN</td>\n",
       "      <td>2005.456821</td>\n",
       "      <td>NaN</td>\n",
       "      <td>NaN</td>\n",
       "      <td>NaN</td>\n",
       "      <td>116.584987</td>\n",
       "      <td>NaN</td>\n",
       "      <td>108739.154874</td>\n",
       "      <td>1445.074961</td>\n",
       "      <td>0.302422</td>\n",
       "      <td>0.458721</td>\n",
       "    </tr>\n",
       "    <tr>\n",
       "      <th>std</th>\n",
       "      <td>NaN</td>\n",
       "      <td>NaN</td>\n",
       "      <td>NaN</td>\n",
       "      <td>NaN</td>\n",
       "      <td>12.655566</td>\n",
       "      <td>NaN</td>\n",
       "      <td>NaN</td>\n",
       "      <td>NaN</td>\n",
       "      <td>82.192718</td>\n",
       "      <td>NaN</td>\n",
       "      <td>69890.280273</td>\n",
       "      <td>180.053030</td>\n",
       "      <td>0.459323</td>\n",
       "      <td>0.498310</td>\n",
       "    </tr>\n",
       "    <tr>\n",
       "      <th>min</th>\n",
       "      <td>NaN</td>\n",
       "      <td>NaN</td>\n",
       "      <td>NaN</td>\n",
       "      <td>NaN</td>\n",
       "      <td>1970.000000</td>\n",
       "      <td>NaN</td>\n",
       "      <td>NaN</td>\n",
       "      <td>NaN</td>\n",
       "      <td>3.000000</td>\n",
       "      <td>NaN</td>\n",
       "      <td>4999.500000</td>\n",
       "      <td>1150.000000</td>\n",
       "      <td>0.000000</td>\n",
       "      <td>0.000000</td>\n",
       "    </tr>\n",
       "    <tr>\n",
       "      <th>25%</th>\n",
       "      <td>NaN</td>\n",
       "      <td>NaN</td>\n",
       "      <td>NaN</td>\n",
       "      <td>NaN</td>\n",
       "      <td>1998.000000</td>\n",
       "      <td>NaN</td>\n",
       "      <td>NaN</td>\n",
       "      <td>NaN</td>\n",
       "      <td>43.700000</td>\n",
       "      <td>NaN</td>\n",
       "      <td>34999.500000</td>\n",
       "      <td>1450.000000</td>\n",
       "      <td>0.000000</td>\n",
       "      <td>0.000000</td>\n",
       "    </tr>\n",
       "    <tr>\n",
       "      <th>50%</th>\n",
       "      <td>NaN</td>\n",
       "      <td>NaN</td>\n",
       "      <td>NaN</td>\n",
       "      <td>NaN</td>\n",
       "      <td>2010.000000</td>\n",
       "      <td>NaN</td>\n",
       "      <td>NaN</td>\n",
       "      <td>NaN</td>\n",
       "      <td>110.000000</td>\n",
       "      <td>NaN</td>\n",
       "      <td>109999.500000</td>\n",
       "      <td>1450.000000</td>\n",
       "      <td>0.000000</td>\n",
       "      <td>0.000000</td>\n",
       "    </tr>\n",
       "    <tr>\n",
       "      <th>75%</th>\n",
       "      <td>NaN</td>\n",
       "      <td>NaN</td>\n",
       "      <td>NaN</td>\n",
       "      <td>NaN</td>\n",
       "      <td>2015.000000</td>\n",
       "      <td>NaN</td>\n",
       "      <td>NaN</td>\n",
       "      <td>NaN</td>\n",
       "      <td>161.000000</td>\n",
       "      <td>NaN</td>\n",
       "      <td>189999.500000</td>\n",
       "      <td>1600.000000</td>\n",
       "      <td>1.000000</td>\n",
       "      <td>1.000000</td>\n",
       "    </tr>\n",
       "    <tr>\n",
       "      <th>max</th>\n",
       "      <td>NaN</td>\n",
       "      <td>NaN</td>\n",
       "      <td>NaN</td>\n",
       "      <td>NaN</td>\n",
       "      <td>2022.000000</td>\n",
       "      <td>NaN</td>\n",
       "      <td>NaN</td>\n",
       "      <td>NaN</td>\n",
       "      <td>471.500000</td>\n",
       "      <td>NaN</td>\n",
       "      <td>200000.000000</td>\n",
       "      <td>1600.000000</td>\n",
       "      <td>1.000000</td>\n",
       "      <td>1.000000</td>\n",
       "    </tr>\n",
       "  </tbody>\n",
       "</table>\n",
       "</div>"
      ],
      "text/plain": [
       "          Brand  Model   Body  Color          Year     Fuel   Engine  \\\n",
       "count     14741  14741  14741  14741  14741.000000    14741    14741   \n",
       "unique        3     18      3     14           NaN        2        3   \n",
       "top     Hyundai    128  Sedan  White           NaN  Benzine  1600 CC   \n",
       "freq       5692   2425  13453   2614           NaN    14200     6762   \n",
       "mean        NaN    NaN    NaN    NaN   2005.456821      NaN      NaN   \n",
       "std         NaN    NaN    NaN    NaN     12.655566      NaN      NaN   \n",
       "min         NaN    NaN    NaN    NaN   1970.000000      NaN      NaN   \n",
       "25%         NaN    NaN    NaN    NaN   1998.000000      NaN      NaN   \n",
       "50%         NaN    NaN    NaN    NaN   2010.000000      NaN      NaN   \n",
       "75%         NaN    NaN    NaN    NaN   2015.000000      NaN      NaN   \n",
       "max         NaN    NaN    NaN    NaN   2022.000000      NaN      NaN   \n",
       "\n",
       "       Transmission         Price    Gov         KM_Adj            CC  \\\n",
       "count         14741  14741.000000  14741   14741.000000  14741.000000   \n",
       "unique            2           NaN     26            NaN           NaN   \n",
       "top          Manual           NaN  Cairo            NaN           NaN   \n",
       "freq           9862           NaN   4458            NaN           NaN   \n",
       "mean            NaN    116.584987    NaN  108739.154874   1445.074961   \n",
       "std             NaN     82.192718    NaN   69890.280273    180.053030   \n",
       "min             NaN      3.000000    NaN    4999.500000   1150.000000   \n",
       "25%             NaN     43.700000    NaN   34999.500000   1450.000000   \n",
       "50%             NaN    110.000000    NaN  109999.500000   1450.000000   \n",
       "75%             NaN    161.000000    NaN  189999.500000   1600.000000   \n",
       "max             NaN    471.500000    NaN  200000.000000   1600.000000   \n",
       "\n",
       "               cairo        new_CC  \n",
       "count   14741.000000  14741.000000  \n",
       "unique           NaN           NaN  \n",
       "top              NaN           NaN  \n",
       "freq             NaN           NaN  \n",
       "mean        0.302422      0.458721  \n",
       "std         0.459323      0.498310  \n",
       "min         0.000000      0.000000  \n",
       "25%         0.000000      0.000000  \n",
       "50%         0.000000      0.000000  \n",
       "75%         1.000000      1.000000  \n",
       "max         1.000000      1.000000  "
      ]
     },
     "execution_count": 251,
     "metadata": {},
     "output_type": "execute_result"
    }
   ],
   "source": [
    "cars_v1.describe(include='all')"
   ]
  },
  {
   "cell_type": "markdown",
   "id": "0fe25113",
   "metadata": {},
   "source": [
    "## Get Dummies"
   ]
  },
  {
   "cell_type": "code",
   "execution_count": 252,
   "id": "b8e3d54e",
   "metadata": {},
   "outputs": [],
   "source": [
    "cars_dummies = pd.get_dummies(cars_v1,prefix=['Brand', 'Body'], columns=['Brand', 'Body'], drop_first=True)"
   ]
  },
  {
   "cell_type": "code",
   "execution_count": 258,
   "id": "738daa24",
   "metadata": {},
   "outputs": [],
   "source": [
    "cars_dummies.drop(['cairo','new_CC'],axis= 1, inplace= True)"
   ]
  },
  {
   "cell_type": "code",
   "execution_count": 260,
   "id": "8a76a81c",
   "metadata": {},
   "outputs": [],
   "source": [
    "cars_dummies['log_price']= np.log(cars_dummies['Price'])"
   ]
  },
  {
   "cell_type": "code",
   "execution_count": 262,
   "id": "f4095588",
   "metadata": {},
   "outputs": [
    {
     "data": {
      "text/plain": [
       "Index(['Model', 'Color', 'Year', 'Fuel', 'Engine', 'Transmission', 'Price',\n",
       "       'Gov', 'KM_Adj', 'CC', 'Brand_Fiat', 'Brand_Hyundai', 'Body_SUV',\n",
       "       'Body_Sedan', 'log_price'],\n",
       "      dtype='object')"
      ]
     },
     "execution_count": 262,
     "metadata": {},
     "output_type": "execute_result"
    }
   ],
   "source": [
    "cars_dummies.columns"
   ]
  },
  {
   "cell_type": "markdown",
   "id": "948e5b47",
   "metadata": {},
   "source": [
    "## Linear Regression "
   ]
  },
  {
   "cell_type": "code",
   "execution_count": 264,
   "id": "f1e10696",
   "metadata": {},
   "outputs": [],
   "source": [
    "targets = cars_dummies['log_price']\n",
    "inputs = cars_dummies.drop(['Model', 'Color','Fuel', 'Engine', 'Transmission', 'Price','Gov','CC','log_price'], axis= 1)"
   ]
  },
  {
   "cell_type": "code",
   "execution_count": 265,
   "id": "1978647f",
   "metadata": {},
   "outputs": [],
   "source": [
    "from sklearn.preprocessing import StandardScaler\n",
    "scaler = StandardScaler()"
   ]
  },
  {
   "cell_type": "code",
   "execution_count": 266,
   "id": "f319bdfe",
   "metadata": {},
   "outputs": [
    {
     "data": {
      "text/plain": [
       "StandardScaler()"
      ]
     },
     "execution_count": 266,
     "metadata": {},
     "output_type": "execute_result"
    }
   ],
   "source": [
    "scaler.fit(inputs)"
   ]
  },
  {
   "cell_type": "code",
   "execution_count": 267,
   "id": "a789227e",
   "metadata": {},
   "outputs": [],
   "source": [
    "inputs_scaled = scaler.transform(inputs)"
   ]
  },
  {
   "cell_type": "code",
   "execution_count": null,
   "id": "5aad522d",
   "metadata": {},
   "outputs": [],
   "source": []
  },
  {
   "cell_type": "markdown",
   "id": "99412418",
   "metadata": {},
   "source": [
    "## Train Test Split"
   ]
  },
  {
   "cell_type": "code",
   "execution_count": 220,
   "id": "8ec36544",
   "metadata": {},
   "outputs": [],
   "source": [
    "from sklearn.model_selection import train_test_split"
   ]
  },
  {
   "cell_type": "code",
   "execution_count": 268,
   "id": "ae9684c5",
   "metadata": {},
   "outputs": [],
   "source": [
    "X_train, X_test, y_train, y_test = train_test_split(inputs_scaled, targets, test_size= .2, random_state= 42)"
   ]
  },
  {
   "cell_type": "code",
   "execution_count": 269,
   "id": "08908274",
   "metadata": {},
   "outputs": [],
   "source": [
    "reg = LinearRegression()"
   ]
  },
  {
   "cell_type": "code",
   "execution_count": 270,
   "id": "668c6070",
   "metadata": {},
   "outputs": [
    {
     "data": {
      "text/plain": [
       "LinearRegression()"
      ]
     },
     "execution_count": 270,
     "metadata": {},
     "output_type": "execute_result"
    }
   ],
   "source": [
    "reg.fit(X_train,y_train)"
   ]
  },
  {
   "cell_type": "code",
   "execution_count": 272,
   "id": "c2cb9019",
   "metadata": {},
   "outputs": [],
   "source": [
    "y_hat = reg.predict(X_train)"
   ]
  },
  {
   "cell_type": "code",
   "execution_count": 275,
   "id": "535213b2",
   "metadata": {},
   "outputs": [
    {
     "data": {
      "image/png": "[encoded data removed]",
      "text/plain": [
       "<Figure size 432x288 with 1 Axes>"
      ]
     },
     "metadata": {
      "needs_background": "light"
     },
     "output_type": "display_data"
    }
   ],
   "source": [
    "plt.scatter(y_train,y_hat)\n",
    "plt.xlabel('Targets', fontsize= 20)\n",
    "plt.ylabel('Predictions', fontsize= 20)\n",
    "plt.show()"
   ]
  },
  {
   "cell_type": "code",
   "execution_count": 276,
   "id": "767a6196",
   "metadata": {},
   "outputs": [
    {
     "name": "stderr",
     "output_type": "stream",
     "text": [
      "D:\\Data_Science\\Anaconda3\\lib\\site-packages\\seaborn\\distributions.py:2619: FutureWarning: `distplot` is a deprecated function and will be removed in a future version. Please adapt your code to use either `displot` (a figure-level function with similar flexibility) or `histplot` (an axes-level function for histograms).\n",
      "  warnings.warn(msg, FutureWarning)\n"
     ]
    },
    {
     "data": {
      "text/plain": [
       "<AxesSubplot:xlabel='log_price', ylabel='Density'>"
      ]
     },
     "execution_count": 276,
     "metadata": {},
     "output_type": "execute_result"
    },
    {
     "data": {
      "image/png": "[encoded data removed]",
      "text/plain": [
       "<Figure size 432x288 with 1 Axes>"
      ]
     },
     "metadata": {
      "needs_background": "light"
     },
     "output_type": "display_data"
    }
   ],
   "source": [
    "sns.distplot(y_train - y_hat)\n",
    "\n",
    "#Diff are normal with mean of zero"
   ]
  },
  {
   "cell_type": "code",
   "execution_count": 278,
   "id": "80137017",
   "metadata": {},
   "outputs": [
    {
     "data": {
      "text/plain": [
       "0.827772794127398"
      ]
     },
     "execution_count": 278,
     "metadata": {},
     "output_type": "execute_result"
    }
   ],
   "source": [
    "reg.score(X_train, y_train)"
   ]
  },
  {
   "cell_type": "code",
   "execution_count": 281,
   "id": "2b1171a9",
   "metadata": {},
   "outputs": [
    {
     "data": {
      "text/plain": [
       "4.449310558911252"
      ]
     },
     "execution_count": 281,
     "metadata": {},
     "output_type": "execute_result"
    }
   ],
   "source": [
    "reg.intercept_"
   ]
  },
  {
   "cell_type": "code",
   "execution_count": 282,
   "id": "d1c41f60",
   "metadata": {},
   "outputs": [
    {
     "data": {
      "text/plain": [
       "array([ 0.63839467, -0.02108024, -0.15173085,  0.04714382, -0.03700554,\n",
       "       -0.05535697])"
      ]
     },
     "execution_count": 282,
     "metadata": {},
     "output_type": "execute_result"
    }
   ],
   "source": [
    "reg.coef_"
   ]
  },
  {
   "cell_type": "code",
   "execution_count": 283,
   "id": "29f8c7ee",
   "metadata": {},
   "outputs": [
    {
     "data": {
      "text/html": [
       "<div>\n",
       "<style scoped>\n",
       "    .dataframe tbody tr th:only-of-type {\n",
       "        vertical-align: middle;\n",
       "    }\n",
       "\n",
       "    .dataframe tbody tr th {\n",
       "        vertical-align: top;\n",
       "    }\n",
       "\n",
       "    .dataframe thead th {\n",
       "        text-align: right;\n",
       "    }\n",
       "</style>\n",
       "<table border=\"1\" class=\"dataframe\">\n",
       "  <thead>\n",
       "    <tr style=\"text-align: right;\">\n",
       "      <th></th>\n",
       "      <th>features</th>\n",
       "      <th>weights</th>\n",
       "    </tr>\n",
       "  </thead>\n",
       "  <tbody>\n",
       "    <tr>\n",
       "      <th>0</th>\n",
       "      <td>Year</td>\n",
       "      <td>0.638395</td>\n",
       "    </tr>\n",
       "    <tr>\n",
       "      <th>1</th>\n",
       "      <td>KM_Adj</td>\n",
       "      <td>-0.021080</td>\n",
       "    </tr>\n",
       "    <tr>\n",
       "      <th>2</th>\n",
       "      <td>Brand_Fiat</td>\n",
       "      <td>-0.151731</td>\n",
       "    </tr>\n",
       "    <tr>\n",
       "      <th>3</th>\n",
       "      <td>Brand_Hyundai</td>\n",
       "      <td>0.047144</td>\n",
       "    </tr>\n",
       "    <tr>\n",
       "      <th>4</th>\n",
       "      <td>Body_SUV</td>\n",
       "      <td>-0.037006</td>\n",
       "    </tr>\n",
       "    <tr>\n",
       "      <th>5</th>\n",
       "      <td>Body_Sedan</td>\n",
       "      <td>-0.055357</td>\n",
       "    </tr>\n",
       "  </tbody>\n",
       "</table>\n",
       "</div>"
      ],
      "text/plain": [
       "        features   weights\n",
       "0           Year  0.638395\n",
       "1         KM_Adj -0.021080\n",
       "2     Brand_Fiat -0.151731\n",
       "3  Brand_Hyundai  0.047144\n",
       "4       Body_SUV -0.037006\n",
       "5     Body_Sedan -0.055357"
      ]
     },
     "execution_count": 283,
     "metadata": {},
     "output_type": "execute_result"
    }
   ],
   "source": [
    "reg_sum = pd.DataFrame(inputs.columns.values, columns =['features'])\n",
    "reg_sum['weights'] = reg.coef_\n",
    "reg_sum"
   ]
  },
  {
   "cell_type": "markdown",
   "id": "2e416454",
   "metadata": {},
   "source": [
    "## Testing"
   ]
  },
  {
   "cell_type": "code",
   "execution_count": 285,
   "id": "fcf30b34",
   "metadata": {},
   "outputs": [],
   "source": [
    "y_hat_test = reg.predict(X_test)"
   ]
  },
  {
   "cell_type": "code",
   "execution_count": 287,
   "id": "b3a7cb51",
   "metadata": {},
   "outputs": [
    {
     "data": {
      "image/png": "[encoded data removed]",
      "text/plain": [
       "<Figure size 432x288 with 1 Axes>"
      ]
     },
     "metadata": {
      "needs_background": "light"
     },
     "output_type": "display_data"
    }
   ],
   "source": [
    "plt.scatter(y_test,y_hat_test, alpha =.2)\n",
    "plt.xlabel('Targets', fontsize= 20)\n",
    "plt.ylabel('Predictions (y_hat_test)', fontsize= 20)\n",
    "plt.show()"
   ]
  },
  {
   "cell_type": "code",
   "execution_count": 299,
   "id": "0b95f4aa",
   "metadata": {},
   "outputs": [
    {
     "data": {
      "text/html": [
       "<div>\n",
       "<style scoped>\n",
       "    .dataframe tbody tr th:only-of-type {\n",
       "        vertical-align: middle;\n",
       "    }\n",
       "\n",
       "    .dataframe tbody tr th {\n",
       "        vertical-align: top;\n",
       "    }\n",
       "\n",
       "    .dataframe thead th {\n",
       "        text-align: right;\n",
       "    }\n",
       "</style>\n",
       "<table border=\"1\" class=\"dataframe\">\n",
       "  <thead>\n",
       "    <tr style=\"text-align: right;\">\n",
       "      <th></th>\n",
       "      <th>Prediction</th>\n",
       "    </tr>\n",
       "  </thead>\n",
       "  <tbody>\n",
       "    <tr>\n",
       "      <th>0</th>\n",
       "      <td>194.433879</td>\n",
       "    </tr>\n",
       "    <tr>\n",
       "      <th>1</th>\n",
       "      <td>179.646652</td>\n",
       "    </tr>\n",
       "    <tr>\n",
       "      <th>2</th>\n",
       "      <td>173.143321</td>\n",
       "    </tr>\n",
       "    <tr>\n",
       "      <th>3</th>\n",
       "      <td>95.367831</td>\n",
       "    </tr>\n",
       "    <tr>\n",
       "      <th>4</th>\n",
       "      <td>48.374679</td>\n",
       "    </tr>\n",
       "    <tr>\n",
       "      <th>...</th>\n",
       "      <td>...</td>\n",
       "    </tr>\n",
       "    <tr>\n",
       "      <th>2944</th>\n",
       "      <td>106.130016</td>\n",
       "    </tr>\n",
       "    <tr>\n",
       "      <th>2945</th>\n",
       "      <td>101.903494</td>\n",
       "    </tr>\n",
       "    <tr>\n",
       "      <th>2946</th>\n",
       "      <td>132.192594</td>\n",
       "    </tr>\n",
       "    <tr>\n",
       "      <th>2947</th>\n",
       "      <td>51.685648</td>\n",
       "    </tr>\n",
       "    <tr>\n",
       "      <th>2948</th>\n",
       "      <td>194.231250</td>\n",
       "    </tr>\n",
       "  </tbody>\n",
       "</table>\n",
       "<p>2949 rows × 1 columns</p>\n",
       "</div>"
      ],
      "text/plain": [
       "      Prediction\n",
       "0     194.433879\n",
       "1     179.646652\n",
       "2     173.143321\n",
       "3      95.367831\n",
       "4      48.374679\n",
       "...          ...\n",
       "2944  106.130016\n",
       "2945  101.903494\n",
       "2946  132.192594\n",
       "2947   51.685648\n",
       "2948  194.231250\n",
       "\n",
       "[2949 rows x 1 columns]"
      ]
     },
     "execution_count": 299,
     "metadata": {},
     "output_type": "execute_result"
    }
   ],
   "source": [
    "df_pf = pd.DataFrame(np.exp(y_hat_test), columns =['Prediction'])\n",
    "df_pf"
   ]
  },
  {
   "cell_type": "code",
   "execution_count": 300,
   "id": "15393952",
   "metadata": {},
   "outputs": [],
   "source": [
    "y_test= y_test.reset_index(drop=True)"
   ]
  },
  {
   "cell_type": "code",
   "execution_count": 301,
   "id": "95049144",
   "metadata": {},
   "outputs": [],
   "source": [
    "df_pf['Target'] = np.exp(y_test)"
   ]
  },
  {
   "cell_type": "code",
   "execution_count": 302,
   "id": "6af293f0",
   "metadata": {},
   "outputs": [
    {
     "data": {
      "text/html": [
       "<div>\n",
       "<style scoped>\n",
       "    .dataframe tbody tr th:only-of-type {\n",
       "        vertical-align: middle;\n",
       "    }\n",
       "\n",
       "    .dataframe tbody tr th {\n",
       "        vertical-align: top;\n",
       "    }\n",
       "\n",
       "    .dataframe thead th {\n",
       "        text-align: right;\n",
       "    }\n",
       "</style>\n",
       "<table border=\"1\" class=\"dataframe\">\n",
       "  <thead>\n",
       "    <tr style=\"text-align: right;\">\n",
       "      <th></th>\n",
       "      <th>Prediction</th>\n",
       "      <th>Target</th>\n",
       "    </tr>\n",
       "  </thead>\n",
       "  <tbody>\n",
       "    <tr>\n",
       "      <th>0</th>\n",
       "      <td>194.433879</td>\n",
       "      <td>258.8</td>\n",
       "    </tr>\n",
       "    <tr>\n",
       "      <th>1</th>\n",
       "      <td>179.646652</td>\n",
       "      <td>212.8</td>\n",
       "    </tr>\n",
       "    <tr>\n",
       "      <th>2</th>\n",
       "      <td>173.143321</td>\n",
       "      <td>149.5</td>\n",
       "    </tr>\n",
       "    <tr>\n",
       "      <th>3</th>\n",
       "      <td>95.367831</td>\n",
       "      <td>130.0</td>\n",
       "    </tr>\n",
       "    <tr>\n",
       "      <th>4</th>\n",
       "      <td>48.374679</td>\n",
       "      <td>43.0</td>\n",
       "    </tr>\n",
       "  </tbody>\n",
       "</table>\n",
       "</div>"
      ],
      "text/plain": [
       "   Prediction  Target\n",
       "0  194.433879   258.8\n",
       "1  179.646652   212.8\n",
       "2  173.143321   149.5\n",
       "3   95.367831   130.0\n",
       "4   48.374679    43.0"
      ]
     },
     "execution_count": 302,
     "metadata": {},
     "output_type": "execute_result"
    }
   ],
   "source": [
    "df_pf.head()"
   ]
  },
  {
   "cell_type": "code",
   "execution_count": 303,
   "id": "e3894898",
   "metadata": {},
   "outputs": [],
   "source": [
    "df_pf['Residual']= df_pf['Target'] - df_pf['Prediction']"
   ]
  },
  {
   "cell_type": "code",
   "execution_count": 304,
   "id": "a793d8af",
   "metadata": {},
   "outputs": [
    {
     "data": {
      "text/html": [
       "<div>\n",
       "<style scoped>\n",
       "    .dataframe tbody tr th:only-of-type {\n",
       "        vertical-align: middle;\n",
       "    }\n",
       "\n",
       "    .dataframe tbody tr th {\n",
       "        vertical-align: top;\n",
       "    }\n",
       "\n",
       "    .dataframe thead th {\n",
       "        text-align: right;\n",
       "    }\n",
       "</style>\n",
       "<table border=\"1\" class=\"dataframe\">\n",
       "  <thead>\n",
       "    <tr style=\"text-align: right;\">\n",
       "      <th></th>\n",
       "      <th>Prediction</th>\n",
       "      <th>Target</th>\n",
       "      <th>Residual</th>\n",
       "    </tr>\n",
       "  </thead>\n",
       "  <tbody>\n",
       "    <tr>\n",
       "      <th>0</th>\n",
       "      <td>194.433879</td>\n",
       "      <td>258.8</td>\n",
       "      <td>64.366121</td>\n",
       "    </tr>\n",
       "    <tr>\n",
       "      <th>1</th>\n",
       "      <td>179.646652</td>\n",
       "      <td>212.8</td>\n",
       "      <td>33.153348</td>\n",
       "    </tr>\n",
       "    <tr>\n",
       "      <th>2</th>\n",
       "      <td>173.143321</td>\n",
       "      <td>149.5</td>\n",
       "      <td>-23.643321</td>\n",
       "    </tr>\n",
       "    <tr>\n",
       "      <th>3</th>\n",
       "      <td>95.367831</td>\n",
       "      <td>130.0</td>\n",
       "      <td>34.632169</td>\n",
       "    </tr>\n",
       "    <tr>\n",
       "      <th>4</th>\n",
       "      <td>48.374679</td>\n",
       "      <td>43.0</td>\n",
       "      <td>-5.374679</td>\n",
       "    </tr>\n",
       "    <tr>\n",
       "      <th>...</th>\n",
       "      <td>...</td>\n",
       "      <td>...</td>\n",
       "      <td>...</td>\n",
       "    </tr>\n",
       "    <tr>\n",
       "      <th>2944</th>\n",
       "      <td>106.130016</td>\n",
       "      <td>135.0</td>\n",
       "      <td>28.869984</td>\n",
       "    </tr>\n",
       "    <tr>\n",
       "      <th>2945</th>\n",
       "      <td>101.903494</td>\n",
       "      <td>140.0</td>\n",
       "      <td>38.096506</td>\n",
       "    </tr>\n",
       "    <tr>\n",
       "      <th>2946</th>\n",
       "      <td>132.192594</td>\n",
       "      <td>85.0</td>\n",
       "      <td>-47.192594</td>\n",
       "    </tr>\n",
       "    <tr>\n",
       "      <th>2947</th>\n",
       "      <td>51.685648</td>\n",
       "      <td>46.0</td>\n",
       "      <td>-5.685648</td>\n",
       "    </tr>\n",
       "    <tr>\n",
       "      <th>2948</th>\n",
       "      <td>194.231250</td>\n",
       "      <td>264.5</td>\n",
       "      <td>70.268750</td>\n",
       "    </tr>\n",
       "  </tbody>\n",
       "</table>\n",
       "<p>2949 rows × 3 columns</p>\n",
       "</div>"
      ],
      "text/plain": [
       "      Prediction  Target   Residual\n",
       "0     194.433879   258.8  64.366121\n",
       "1     179.646652   212.8  33.153348\n",
       "2     173.143321   149.5 -23.643321\n",
       "3      95.367831   130.0  34.632169\n",
       "4      48.374679    43.0  -5.374679\n",
       "...          ...     ...        ...\n",
       "2944  106.130016   135.0  28.869984\n",
       "2945  101.903494   140.0  38.096506\n",
       "2946  132.192594    85.0 -47.192594\n",
       "2947   51.685648    46.0  -5.685648\n",
       "2948  194.231250   264.5  70.268750\n",
       "\n",
       "[2949 rows x 3 columns]"
      ]
     },
     "execution_count": 304,
     "metadata": {},
     "output_type": "execute_result"
    }
   ],
   "source": [
    "df_pf"
   ]
  },
  {
   "cell_type": "code",
   "execution_count": 319,
   "id": "b1a30edf",
   "metadata": {},
   "outputs": [
    {
     "data": {
      "text/html": [
       "<div>\n",
       "<style scoped>\n",
       "    .dataframe tbody tr th:only-of-type {\n",
       "        vertical-align: middle;\n",
       "    }\n",
       "\n",
       "    .dataframe tbody tr th {\n",
       "        vertical-align: top;\n",
       "    }\n",
       "\n",
       "    .dataframe thead th {\n",
       "        text-align: right;\n",
       "    }\n",
       "</style>\n",
       "<table border=\"1\" class=\"dataframe\">\n",
       "  <thead>\n",
       "    <tr style=\"text-align: right;\">\n",
       "      <th></th>\n",
       "      <th>Prediction</th>\n",
       "      <th>Target</th>\n",
       "      <th>Residual</th>\n",
       "      <th>Diff%</th>\n",
       "    </tr>\n",
       "  </thead>\n",
       "  <tbody>\n",
       "    <tr>\n",
       "      <th>0</th>\n",
       "      <td>194.433879</td>\n",
       "      <td>258.8</td>\n",
       "      <td>64.366121</td>\n",
       "      <td>24.87</td>\n",
       "    </tr>\n",
       "    <tr>\n",
       "      <th>1</th>\n",
       "      <td>179.646652</td>\n",
       "      <td>212.8</td>\n",
       "      <td>33.153348</td>\n",
       "      <td>15.58</td>\n",
       "    </tr>\n",
       "    <tr>\n",
       "      <th>2</th>\n",
       "      <td>173.143321</td>\n",
       "      <td>149.5</td>\n",
       "      <td>-23.643321</td>\n",
       "      <td>15.81</td>\n",
       "    </tr>\n",
       "    <tr>\n",
       "      <th>3</th>\n",
       "      <td>95.367831</td>\n",
       "      <td>130.0</td>\n",
       "      <td>34.632169</td>\n",
       "      <td>26.64</td>\n",
       "    </tr>\n",
       "    <tr>\n",
       "      <th>4</th>\n",
       "      <td>48.374679</td>\n",
       "      <td>43.0</td>\n",
       "      <td>-5.374679</td>\n",
       "      <td>12.50</td>\n",
       "    </tr>\n",
       "    <tr>\n",
       "      <th>...</th>\n",
       "      <td>...</td>\n",
       "      <td>...</td>\n",
       "      <td>...</td>\n",
       "      <td>...</td>\n",
       "    </tr>\n",
       "    <tr>\n",
       "      <th>2944</th>\n",
       "      <td>106.130016</td>\n",
       "      <td>135.0</td>\n",
       "      <td>28.869984</td>\n",
       "      <td>21.39</td>\n",
       "    </tr>\n",
       "    <tr>\n",
       "      <th>2945</th>\n",
       "      <td>101.903494</td>\n",
       "      <td>140.0</td>\n",
       "      <td>38.096506</td>\n",
       "      <td>27.21</td>\n",
       "    </tr>\n",
       "    <tr>\n",
       "      <th>2946</th>\n",
       "      <td>132.192594</td>\n",
       "      <td>85.0</td>\n",
       "      <td>-47.192594</td>\n",
       "      <td>55.52</td>\n",
       "    </tr>\n",
       "    <tr>\n",
       "      <th>2947</th>\n",
       "      <td>51.685648</td>\n",
       "      <td>46.0</td>\n",
       "      <td>-5.685648</td>\n",
       "      <td>12.36</td>\n",
       "    </tr>\n",
       "    <tr>\n",
       "      <th>2948</th>\n",
       "      <td>194.231250</td>\n",
       "      <td>264.5</td>\n",
       "      <td>70.268750</td>\n",
       "      <td>26.57</td>\n",
       "    </tr>\n",
       "  </tbody>\n",
       "</table>\n",
       "<p>2949 rows × 4 columns</p>\n",
       "</div>"
      ],
      "text/plain": [
       "      Prediction  Target   Residual  Diff%\n",
       "0     194.433879   258.8  64.366121  24.87\n",
       "1     179.646652   212.8  33.153348  15.58\n",
       "2     173.143321   149.5 -23.643321  15.81\n",
       "3      95.367831   130.0  34.632169  26.64\n",
       "4      48.374679    43.0  -5.374679  12.50\n",
       "...          ...     ...        ...    ...\n",
       "2944  106.130016   135.0  28.869984  21.39\n",
       "2945  101.903494   140.0  38.096506  27.21\n",
       "2946  132.192594    85.0 -47.192594  55.52\n",
       "2947   51.685648    46.0  -5.685648  12.36\n",
       "2948  194.231250   264.5  70.268750  26.57\n",
       "\n",
       "[2949 rows x 4 columns]"
      ]
     },
     "execution_count": 319,
     "metadata": {},
     "output_type": "execute_result"
    }
   ],
   "source": [
    "df_pf['Diff%'] = np.absolute(df_pf['Residual']/df_pf['Target']*100).round(decimals=2)\n",
    "df_pf"
   ]
  },
  {
   "cell_type": "code",
   "execution_count": 320,
   "id": "86cdd700",
   "metadata": {},
   "outputs": [
    {
     "data": {
      "text/html": [
       "<div>\n",
       "<style scoped>\n",
       "    .dataframe tbody tr th:only-of-type {\n",
       "        vertical-align: middle;\n",
       "    }\n",
       "\n",
       "    .dataframe tbody tr th {\n",
       "        vertical-align: top;\n",
       "    }\n",
       "\n",
       "    .dataframe thead th {\n",
       "        text-align: right;\n",
       "    }\n",
       "</style>\n",
       "<table border=\"1\" class=\"dataframe\">\n",
       "  <thead>\n",
       "    <tr style=\"text-align: right;\">\n",
       "      <th></th>\n",
       "      <th>Prediction</th>\n",
       "      <th>Target</th>\n",
       "      <th>Residual</th>\n",
       "      <th>Diff%</th>\n",
       "    </tr>\n",
       "  </thead>\n",
       "  <tbody>\n",
       "    <tr>\n",
       "      <th>count</th>\n",
       "      <td>2949.000000</td>\n",
       "      <td>2949.000000</td>\n",
       "      <td>2949.000000</td>\n",
       "      <td>2949.000000</td>\n",
       "    </tr>\n",
       "    <tr>\n",
       "      <th>mean</th>\n",
       "      <td>109.970049</td>\n",
       "      <td>119.555680</td>\n",
       "      <td>9.585631</td>\n",
       "      <td>31.897986</td>\n",
       "    </tr>\n",
       "    <tr>\n",
       "      <th>std</th>\n",
       "      <td>58.660083</td>\n",
       "      <td>83.287642</td>\n",
       "      <td>48.077432</td>\n",
       "      <td>147.508638</td>\n",
       "    </tr>\n",
       "    <tr>\n",
       "      <th>min</th>\n",
       "      <td>11.273800</td>\n",
       "      <td>3.000000</td>\n",
       "      <td>-220.185765</td>\n",
       "      <td>0.020000</td>\n",
       "    </tr>\n",
       "    <tr>\n",
       "      <th>25%</th>\n",
       "      <td>53.996347</td>\n",
       "      <td>46.000000</td>\n",
       "      <td>-16.945430</td>\n",
       "      <td>11.270000</td>\n",
       "    </tr>\n",
       "    <tr>\n",
       "      <th>50%</th>\n",
       "      <td>122.323310</td>\n",
       "      <td>115.000000</td>\n",
       "      <td>-0.258770</td>\n",
       "      <td>21.640000</td>\n",
       "    </tr>\n",
       "    <tr>\n",
       "      <th>75%</th>\n",
       "      <td>154.416791</td>\n",
       "      <td>161.400000</td>\n",
       "      <td>21.903266</td>\n",
       "      <td>34.860000</td>\n",
       "    </tr>\n",
       "    <tr>\n",
       "      <th>max</th>\n",
       "      <td>245.541000</td>\n",
       "      <td>460.000000</td>\n",
       "      <td>302.881023</td>\n",
       "      <td>4478.830000</td>\n",
       "    </tr>\n",
       "  </tbody>\n",
       "</table>\n",
       "</div>"
      ],
      "text/plain": [
       "        Prediction       Target     Residual        Diff%\n",
       "count  2949.000000  2949.000000  2949.000000  2949.000000\n",
       "mean    109.970049   119.555680     9.585631    31.897986\n",
       "std      58.660083    83.287642    48.077432   147.508638\n",
       "min      11.273800     3.000000  -220.185765     0.020000\n",
       "25%      53.996347    46.000000   -16.945430    11.270000\n",
       "50%     122.323310   115.000000    -0.258770    21.640000\n",
       "75%     154.416791   161.400000    21.903266    34.860000\n",
       "max     245.541000   460.000000   302.881023  4478.830000"
      ]
     },
     "execution_count": 320,
     "metadata": {},
     "output_type": "execute_result"
    }
   ],
   "source": [
    "df_pf.describe()"
   ]
  },
  {
   "cell_type": "code",
   "execution_count": null,
   "id": "0b2e1be3",
   "metadata": {},
   "outputs": [],
   "source": [
    "#pd.options.display.max_rows = 999\n",
    "#pd.set_options('display.float_format', lambda x:\"%.2f%\" % x)"
   ]
  },
  {
   "cell_type": "code",
   "execution_count": 321,
   "id": "4bcae114",
   "metadata": {},
   "outputs": [
    {
     "data": {
      "text/plain": [
       "(array([1.27346179e+04, 1.62972740e+02, 3.82886607e+03, 5.96788555e+02,\n",
       "        1.75220808e+01, 3.98576639e+00]),\n",
       " array([0.00000000e+000, 2.28937348e-036, 0.00000000e+000, 3.50056158e-120,\n",
       "        2.92302443e-005, 4.59780673e-002]))"
      ]
     },
     "execution_count": 321,
     "metadata": {},
     "output_type": "execute_result"
    }
   ],
   "source": [
    "f_regression(X_test,y_test)"
   ]
  },
  {
   "cell_type": "code",
   "execution_count": null,
   "id": "a6b20bff",
   "metadata": {},
   "outputs": [],
   "source": []
  },
  {
   "cell_type": "markdown",
   "id": "81ba99d9",
   "metadata": {},
   "source": [
    "## Using All Data"
   ]
  },
  {
   "cell_type": "markdown",
   "id": "8ee07fdc",
   "metadata": {},
   "source": [
    "#### Get Dummies"
   ]
  },
  {
   "cell_type": "code",
   "execution_count": 329,
   "id": "2b6e8f68",
   "metadata": {},
   "outputs": [],
   "source": [
    "cars_v1.head()\n",
    "cars_v2= cars_v1.drop(['CC',\"cairo\",'new_CC'],axis=1)"
   ]
  },
  {
   "cell_type": "code",
   "execution_count": 330,
   "id": "fc5d59ca",
   "metadata": {},
   "outputs": [],
   "source": []
  },
  {
   "cell_type": "code",
   "execution_count": 331,
   "id": "75c82eae",
   "metadata": {},
   "outputs": [],
   "source": [
    "cars_v2['log_price']= np.log(cars_v2['Price'])"
   ]
  },
  {
   "cell_type": "code",
   "execution_count": 332,
   "id": "d8748676",
   "metadata": {},
   "outputs": [],
   "source": [
    "cars_v2.drop(['Price'],axis= 1, inplace= True)"
   ]
  },
  {
   "cell_type": "code",
   "execution_count": 338,
   "id": "5701e2aa",
   "metadata": {},
   "outputs": [],
   "source": [
    "cars_v2 = pd.get_dummies(cars_v2, drop_first=True)"
   ]
  },
  {
   "cell_type": "code",
   "execution_count": null,
   "id": "6c7c44ca",
   "metadata": {},
   "outputs": [],
   "source": []
  },
  {
   "cell_type": "code",
   "execution_count": 347,
   "id": "99c21e95",
   "metadata": {},
   "outputs": [],
   "source": [
    "targets = cars_v2['log_price']\n",
    "inputs = cars_v2.drop(['log_price'], axis= 1)"
   ]
  },
  {
   "cell_type": "code",
   "execution_count": 348,
   "id": "75ca2001",
   "metadata": {},
   "outputs": [
    {
     "data": {
      "text/html": [
       "<div>\n",
       "<style scoped>\n",
       "    .dataframe tbody tr th:only-of-type {\n",
       "        vertical-align: middle;\n",
       "    }\n",
       "\n",
       "    .dataframe tbody tr th {\n",
       "        vertical-align: top;\n",
       "    }\n",
       "\n",
       "    .dataframe thead th {\n",
       "        text-align: right;\n",
       "    }\n",
       "</style>\n",
       "<table border=\"1\" class=\"dataframe\">\n",
       "  <thead>\n",
       "    <tr style=\"text-align: right;\">\n",
       "      <th></th>\n",
       "      <th>Year</th>\n",
       "      <th>KM_Adj</th>\n",
       "      <th>Brand_Fiat</th>\n",
       "      <th>Brand_Hyundai</th>\n",
       "      <th>Model_131</th>\n",
       "      <th>Model_Accent</th>\n",
       "      <th>Model_Avante</th>\n",
       "      <th>Model_Aveo</th>\n",
       "      <th>Model_Cruze</th>\n",
       "      <th>Model_Elantra</th>\n",
       "      <th>...</th>\n",
       "      <th>Gov_Monufia</th>\n",
       "      <th>Gov_New Valley</th>\n",
       "      <th>Gov_Port Said</th>\n",
       "      <th>Gov_Qalyubia</th>\n",
       "      <th>Gov_Qena</th>\n",
       "      <th>Gov_Red Sea</th>\n",
       "      <th>Gov_Sharqia</th>\n",
       "      <th>Gov_Sohag</th>\n",
       "      <th>Gov_South Sinai</th>\n",
       "      <th>Gov_Suez</th>\n",
       "    </tr>\n",
       "  </thead>\n",
       "  <tbody>\n",
       "    <tr>\n",
       "      <th>0</th>\n",
       "      <td>2007</td>\n",
       "      <td>149999.5</td>\n",
       "      <td>0</td>\n",
       "      <td>1</td>\n",
       "      <td>0</td>\n",
       "      <td>1</td>\n",
       "      <td>0</td>\n",
       "      <td>0</td>\n",
       "      <td>0</td>\n",
       "      <td>0</td>\n",
       "      <td>...</td>\n",
       "      <td>0</td>\n",
       "      <td>0</td>\n",
       "      <td>0</td>\n",
       "      <td>0</td>\n",
       "      <td>0</td>\n",
       "      <td>0</td>\n",
       "      <td>0</td>\n",
       "      <td>0</td>\n",
       "      <td>0</td>\n",
       "      <td>0</td>\n",
       "    </tr>\n",
       "    <tr>\n",
       "      <th>1</th>\n",
       "      <td>2005</td>\n",
       "      <td>189999.5</td>\n",
       "      <td>0</td>\n",
       "      <td>1</td>\n",
       "      <td>0</td>\n",
       "      <td>1</td>\n",
       "      <td>0</td>\n",
       "      <td>0</td>\n",
       "      <td>0</td>\n",
       "      <td>0</td>\n",
       "      <td>...</td>\n",
       "      <td>0</td>\n",
       "      <td>0</td>\n",
       "      <td>0</td>\n",
       "      <td>0</td>\n",
       "      <td>1</td>\n",
       "      <td>0</td>\n",
       "      <td>0</td>\n",
       "      <td>0</td>\n",
       "      <td>0</td>\n",
       "      <td>0</td>\n",
       "    </tr>\n",
       "    <tr>\n",
       "      <th>2</th>\n",
       "      <td>1999</td>\n",
       "      <td>149999.5</td>\n",
       "      <td>0</td>\n",
       "      <td>1</td>\n",
       "      <td>0</td>\n",
       "      <td>1</td>\n",
       "      <td>0</td>\n",
       "      <td>0</td>\n",
       "      <td>0</td>\n",
       "      <td>0</td>\n",
       "      <td>...</td>\n",
       "      <td>0</td>\n",
       "      <td>0</td>\n",
       "      <td>0</td>\n",
       "      <td>0</td>\n",
       "      <td>0</td>\n",
       "      <td>0</td>\n",
       "      <td>0</td>\n",
       "      <td>0</td>\n",
       "      <td>0</td>\n",
       "      <td>0</td>\n",
       "    </tr>\n",
       "    <tr>\n",
       "      <th>3</th>\n",
       "      <td>2009</td>\n",
       "      <td>149999.5</td>\n",
       "      <td>0</td>\n",
       "      <td>1</td>\n",
       "      <td>0</td>\n",
       "      <td>1</td>\n",
       "      <td>0</td>\n",
       "      <td>0</td>\n",
       "      <td>0</td>\n",
       "      <td>0</td>\n",
       "      <td>...</td>\n",
       "      <td>0</td>\n",
       "      <td>0</td>\n",
       "      <td>0</td>\n",
       "      <td>0</td>\n",
       "      <td>0</td>\n",
       "      <td>0</td>\n",
       "      <td>0</td>\n",
       "      <td>0</td>\n",
       "      <td>0</td>\n",
       "      <td>0</td>\n",
       "    </tr>\n",
       "    <tr>\n",
       "      <th>4</th>\n",
       "      <td>2000</td>\n",
       "      <td>14999.5</td>\n",
       "      <td>0</td>\n",
       "      <td>1</td>\n",
       "      <td>0</td>\n",
       "      <td>1</td>\n",
       "      <td>0</td>\n",
       "      <td>0</td>\n",
       "      <td>0</td>\n",
       "      <td>0</td>\n",
       "      <td>...</td>\n",
       "      <td>0</td>\n",
       "      <td>0</td>\n",
       "      <td>0</td>\n",
       "      <td>0</td>\n",
       "      <td>0</td>\n",
       "      <td>0</td>\n",
       "      <td>0</td>\n",
       "      <td>0</td>\n",
       "      <td>0</td>\n",
       "      <td>0</td>\n",
       "    </tr>\n",
       "  </tbody>\n",
       "</table>\n",
       "<p>5 rows × 65 columns</p>\n",
       "</div>"
      ],
      "text/plain": [
       "   Year    KM_Adj  Brand_Fiat  Brand_Hyundai  Model_131  Model_Accent  \\\n",
       "0  2007  149999.5           0              1          0             1   \n",
       "1  2005  189999.5           0              1          0             1   \n",
       "2  1999  149999.5           0              1          0             1   \n",
       "3  2009  149999.5           0              1          0             1   \n",
       "4  2000   14999.5           0              1          0             1   \n",
       "\n",
       "   Model_Avante  Model_Aveo  Model_Cruze  Model_Elantra  ...  Gov_Monufia  \\\n",
       "0             0           0            0              0  ...            0   \n",
       "1             0           0            0              0  ...            0   \n",
       "2             0           0            0              0  ...            0   \n",
       "3             0           0            0              0  ...            0   \n",
       "4             0           0            0              0  ...            0   \n",
       "\n",
       "   Gov_New Valley  Gov_Port Said  Gov_Qalyubia  Gov_Qena  Gov_Red Sea  \\\n",
       "0               0              0             0         0            0   \n",
       "1               0              0             0         1            0   \n",
       "2               0              0             0         0            0   \n",
       "3               0              0             0         0            0   \n",
       "4               0              0             0         0            0   \n",
       "\n",
       "   Gov_Sharqia  Gov_Sohag  Gov_South Sinai  Gov_Suez  \n",
       "0            0          0                0         0  \n",
       "1            0          0                0         0  \n",
       "2            0          0                0         0  \n",
       "3            0          0                0         0  \n",
       "4            0          0                0         0  \n",
       "\n",
       "[5 rows x 65 columns]"
      ]
     },
     "execution_count": 348,
     "metadata": {},
     "output_type": "execute_result"
    }
   ],
   "source": [
    "inputs.head()"
   ]
  },
  {
   "cell_type": "code",
   "execution_count": 349,
   "id": "10301fac",
   "metadata": {},
   "outputs": [],
   "source": [
    "scaler = StandardScaler()\n",
    "scaler.fit(inputs)\n",
    "inputs_scaled = scaler.transform(inputs)\n"
   ]
  },
  {
   "cell_type": "code",
   "execution_count": 350,
   "id": "dc005577",
   "metadata": {},
   "outputs": [
    {
     "data": {
      "text/plain": [
       "LinearRegression()"
      ]
     },
     "execution_count": 350,
     "metadata": {},
     "output_type": "execute_result"
    }
   ],
   "source": [
    "\n",
    "X_train, X_test, y_train, y_test = train_test_split(inputs_scaled, targets, test_size= .2, random_state= 42)\n",
    "reg = LinearRegression()\n",
    "reg.fit(X_train,y_train)\n"
   ]
  },
  {
   "cell_type": "code",
   "execution_count": 351,
   "id": "6818928a",
   "metadata": {},
   "outputs": [],
   "source": [
    "\n",
    "y_hat = reg.predict(X_train)\n"
   ]
  },
  {
   "cell_type": "code",
   "execution_count": 352,
   "id": "0df691c8",
   "metadata": {},
   "outputs": [
    {
     "data": {
      "image/png": "[encoded data removed]",
      "text/plain": [
       "<Figure size 432x288 with 1 Axes>"
      ]
     },
     "metadata": {
      "needs_background": "light"
     },
     "output_type": "display_data"
    }
   ],
   "source": [
    "\n",
    "plt.scatter(y_train,y_hat)\n",
    "plt.xlabel('Targets', fontsize= 20)\n",
    "plt.ylabel('Predictions', fontsize= 20)\n",
    "plt.show()\n",
    "\n"
   ]
  },
  {
   "cell_type": "code",
   "execution_count": 353,
   "id": "62402419",
   "metadata": {},
   "outputs": [
    {
     "data": {
      "text/html": [
       "<div>\n",
       "<style scoped>\n",
       "    .dataframe tbody tr th:only-of-type {\n",
       "        vertical-align: middle;\n",
       "    }\n",
       "\n",
       "    .dataframe tbody tr th {\n",
       "        vertical-align: top;\n",
       "    }\n",
       "\n",
       "    .dataframe thead th {\n",
       "        text-align: right;\n",
       "    }\n",
       "</style>\n",
       "<table border=\"1\" class=\"dataframe\">\n",
       "  <thead>\n",
       "    <tr style=\"text-align: right;\">\n",
       "      <th></th>\n",
       "      <th>features</th>\n",
       "      <th>weights</th>\n",
       "    </tr>\n",
       "  </thead>\n",
       "  <tbody>\n",
       "    <tr>\n",
       "      <th>0</th>\n",
       "      <td>Year</td>\n",
       "      <td>4.969610e-01</td>\n",
       "    </tr>\n",
       "    <tr>\n",
       "      <th>1</th>\n",
       "      <td>KM_Adj</td>\n",
       "      <td>-1.682569e-03</td>\n",
       "    </tr>\n",
       "    <tr>\n",
       "      <th>2</th>\n",
       "      <td>Brand_Fiat</td>\n",
       "      <td>-4.429173e+10</td>\n",
       "    </tr>\n",
       "    <tr>\n",
       "      <th>3</th>\n",
       "      <td>Brand_Hyundai</td>\n",
       "      <td>1.400403e+10</td>\n",
       "    </tr>\n",
       "    <tr>\n",
       "      <th>4</th>\n",
       "      <td>Model_131</td>\n",
       "      <td>3.452594e-02</td>\n",
       "    </tr>\n",
       "    <tr>\n",
       "      <th>...</th>\n",
       "      <td>...</td>\n",
       "      <td>...</td>\n",
       "    </tr>\n",
       "    <tr>\n",
       "      <th>60</th>\n",
       "      <td>Gov_Red Sea</td>\n",
       "      <td>7.672787e-03</td>\n",
       "    </tr>\n",
       "    <tr>\n",
       "      <th>61</th>\n",
       "      <td>Gov_Sharqia</td>\n",
       "      <td>-1.606464e-03</td>\n",
       "    </tr>\n",
       "    <tr>\n",
       "      <th>62</th>\n",
       "      <td>Gov_Sohag</td>\n",
       "      <td>1.432896e-03</td>\n",
       "    </tr>\n",
       "    <tr>\n",
       "      <th>63</th>\n",
       "      <td>Gov_South Sinai</td>\n",
       "      <td>1.009703e-03</td>\n",
       "    </tr>\n",
       "    <tr>\n",
       "      <th>64</th>\n",
       "      <td>Gov_Suez</td>\n",
       "      <td>-2.652645e-03</td>\n",
       "    </tr>\n",
       "  </tbody>\n",
       "</table>\n",
       "<p>65 rows × 2 columns</p>\n",
       "</div>"
      ],
      "text/plain": [
       "           features       weights\n",
       "0              Year  4.969610e-01\n",
       "1            KM_Adj -1.682569e-03\n",
       "2        Brand_Fiat -4.429173e+10\n",
       "3     Brand_Hyundai  1.400403e+10\n",
       "4         Model_131  3.452594e-02\n",
       "..              ...           ...\n",
       "60      Gov_Red Sea  7.672787e-03\n",
       "61      Gov_Sharqia -1.606464e-03\n",
       "62        Gov_Sohag  1.432896e-03\n",
       "63  Gov_South Sinai  1.009703e-03\n",
       "64         Gov_Suez -2.652645e-03\n",
       "\n",
       "[65 rows x 2 columns]"
      ]
     },
     "execution_count": 353,
     "metadata": {},
     "output_type": "execute_result"
    }
   ],
   "source": [
    "\n",
    "reg.score(X_train, y_train)\n",
    "\n",
    "reg.coef_\n",
    "\n",
    "reg_sum = pd.DataFrame(inputs.columns.values, columns =['features'])\n",
    "reg_sum['weights'] = reg.coef_\n",
    "reg_sum"
   ]
  },
  {
   "cell_type": "code",
   "execution_count": 354,
   "id": "8df60063",
   "metadata": {},
   "outputs": [],
   "source": [
    "y_hat_test = reg.predict(X_test)"
   ]
  },
  {
   "cell_type": "code",
   "execution_count": 355,
   "id": "9dd7cc11",
   "metadata": {},
   "outputs": [],
   "source": [
    "y_test= y_test.reset_index(drop=True)"
   ]
  },
  {
   "cell_type": "code",
   "execution_count": 356,
   "id": "735bc231",
   "metadata": {},
   "outputs": [
    {
     "data": {
      "image/png": "[encoded data removed]",
      "text/plain": [
       "<Figure size 432x288 with 1 Axes>"
      ]
     },
     "metadata": {
      "needs_background": "light"
     },
     "output_type": "display_data"
    }
   ],
   "source": [
    "plt.scatter(y_test,y_hat_test, alpha =.2)\n",
    "plt.xlabel('Targets', fontsize= 20)\n",
    "plt.ylabel('Predictions (y_hat_test)', fontsize= 20)\n",
    "plt.show()"
   ]
  },
  {
   "cell_type": "code",
   "execution_count": 357,
   "id": "712954c6",
   "metadata": {},
   "outputs": [
    {
     "data": {
      "text/html": [
       "<div>\n",
       "<style scoped>\n",
       "    .dataframe tbody tr th:only-of-type {\n",
       "        vertical-align: middle;\n",
       "    }\n",
       "\n",
       "    .dataframe tbody tr th {\n",
       "        vertical-align: top;\n",
       "    }\n",
       "\n",
       "    .dataframe thead th {\n",
       "        text-align: right;\n",
       "    }\n",
       "</style>\n",
       "<table border=\"1\" class=\"dataframe\">\n",
       "  <thead>\n",
       "    <tr style=\"text-align: right;\">\n",
       "      <th></th>\n",
       "      <th>Prediction</th>\n",
       "    </tr>\n",
       "  </thead>\n",
       "  <tbody>\n",
       "    <tr>\n",
       "      <th>0</th>\n",
       "      <td>225.329036</td>\n",
       "    </tr>\n",
       "    <tr>\n",
       "      <th>1</th>\n",
       "      <td>211.546267</td>\n",
       "    </tr>\n",
       "    <tr>\n",
       "      <th>2</th>\n",
       "      <td>129.327479</td>\n",
       "    </tr>\n",
       "    <tr>\n",
       "      <th>3</th>\n",
       "      <td>114.999917</td>\n",
       "    </tr>\n",
       "    <tr>\n",
       "      <th>4</th>\n",
       "      <td>50.128709</td>\n",
       "    </tr>\n",
       "    <tr>\n",
       "      <th>...</th>\n",
       "      <td>...</td>\n",
       "    </tr>\n",
       "    <tr>\n",
       "      <th>2944</th>\n",
       "      <td>138.513329</td>\n",
       "    </tr>\n",
       "    <tr>\n",
       "      <th>2945</th>\n",
       "      <td>139.306055</td>\n",
       "    </tr>\n",
       "    <tr>\n",
       "      <th>2946</th>\n",
       "      <td>94.444913</td>\n",
       "    </tr>\n",
       "    <tr>\n",
       "      <th>2947</th>\n",
       "      <td>49.638902</td>\n",
       "    </tr>\n",
       "    <tr>\n",
       "      <th>2948</th>\n",
       "      <td>234.142508</td>\n",
       "    </tr>\n",
       "  </tbody>\n",
       "</table>\n",
       "<p>2949 rows × 1 columns</p>\n",
       "</div>"
      ],
      "text/plain": [
       "      Prediction\n",
       "0     225.329036\n",
       "1     211.546267\n",
       "2     129.327479\n",
       "3     114.999917\n",
       "4      50.128709\n",
       "...          ...\n",
       "2944  138.513329\n",
       "2945  139.306055\n",
       "2946   94.444913\n",
       "2947   49.638902\n",
       "2948  234.142508\n",
       "\n",
       "[2949 rows x 1 columns]"
      ]
     },
     "execution_count": 357,
     "metadata": {},
     "output_type": "execute_result"
    }
   ],
   "source": [
    "df_pf = pd.DataFrame(np.exp(y_hat_test), columns =['Prediction'])\n",
    "df_pf"
   ]
  },
  {
   "cell_type": "code",
   "execution_count": 358,
   "id": "6f56b198",
   "metadata": {},
   "outputs": [],
   "source": [
    "df_pf['Target'] = np.exp(y_test)"
   ]
  },
  {
   "cell_type": "code",
   "execution_count": 359,
   "id": "cac6e59b",
   "metadata": {},
   "outputs": [
    {
     "data": {
      "text/html": [
       "<div>\n",
       "<style scoped>\n",
       "    .dataframe tbody tr th:only-of-type {\n",
       "        vertical-align: middle;\n",
       "    }\n",
       "\n",
       "    .dataframe tbody tr th {\n",
       "        vertical-align: top;\n",
       "    }\n",
       "\n",
       "    .dataframe thead th {\n",
       "        text-align: right;\n",
       "    }\n",
       "</style>\n",
       "<table border=\"1\" class=\"dataframe\">\n",
       "  <thead>\n",
       "    <tr style=\"text-align: right;\">\n",
       "      <th></th>\n",
       "      <th>Prediction</th>\n",
       "      <th>Target</th>\n",
       "    </tr>\n",
       "  </thead>\n",
       "  <tbody>\n",
       "    <tr>\n",
       "      <th>0</th>\n",
       "      <td>225.329036</td>\n",
       "      <td>258.8</td>\n",
       "    </tr>\n",
       "    <tr>\n",
       "      <th>1</th>\n",
       "      <td>211.546267</td>\n",
       "      <td>212.8</td>\n",
       "    </tr>\n",
       "    <tr>\n",
       "      <th>2</th>\n",
       "      <td>129.327479</td>\n",
       "      <td>149.5</td>\n",
       "    </tr>\n",
       "    <tr>\n",
       "      <th>3</th>\n",
       "      <td>114.999917</td>\n",
       "      <td>130.0</td>\n",
       "    </tr>\n",
       "    <tr>\n",
       "      <th>4</th>\n",
       "      <td>50.128709</td>\n",
       "      <td>43.0</td>\n",
       "    </tr>\n",
       "  </tbody>\n",
       "</table>\n",
       "</div>"
      ],
      "text/plain": [
       "   Prediction  Target\n",
       "0  225.329036   258.8\n",
       "1  211.546267   212.8\n",
       "2  129.327479   149.5\n",
       "3  114.999917   130.0\n",
       "4   50.128709    43.0"
      ]
     },
     "execution_count": 359,
     "metadata": {},
     "output_type": "execute_result"
    }
   ],
   "source": [
    "df_pf.head()"
   ]
  },
  {
   "cell_type": "code",
   "execution_count": 360,
   "id": "e3ab755b",
   "metadata": {},
   "outputs": [
    {
     "data": {
      "text/html": [
       "<div>\n",
       "<style scoped>\n",
       "    .dataframe tbody tr th:only-of-type {\n",
       "        vertical-align: middle;\n",
       "    }\n",
       "\n",
       "    .dataframe tbody tr th {\n",
       "        vertical-align: top;\n",
       "    }\n",
       "\n",
       "    .dataframe thead th {\n",
       "        text-align: right;\n",
       "    }\n",
       "</style>\n",
       "<table border=\"1\" class=\"dataframe\">\n",
       "  <thead>\n",
       "    <tr style=\"text-align: right;\">\n",
       "      <th></th>\n",
       "      <th>Prediction</th>\n",
       "      <th>Target</th>\n",
       "      <th>Residual</th>\n",
       "      <th>Diff%</th>\n",
       "    </tr>\n",
       "  </thead>\n",
       "  <tbody>\n",
       "    <tr>\n",
       "      <th>0</th>\n",
       "      <td>225.329036</td>\n",
       "      <td>258.8</td>\n",
       "      <td>33.470964</td>\n",
       "      <td>12.93</td>\n",
       "    </tr>\n",
       "    <tr>\n",
       "      <th>1</th>\n",
       "      <td>211.546267</td>\n",
       "      <td>212.8</td>\n",
       "      <td>1.253733</td>\n",
       "      <td>0.59</td>\n",
       "    </tr>\n",
       "    <tr>\n",
       "      <th>2</th>\n",
       "      <td>129.327479</td>\n",
       "      <td>149.5</td>\n",
       "      <td>20.172521</td>\n",
       "      <td>13.49</td>\n",
       "    </tr>\n",
       "    <tr>\n",
       "      <th>3</th>\n",
       "      <td>114.999917</td>\n",
       "      <td>130.0</td>\n",
       "      <td>15.000083</td>\n",
       "      <td>11.54</td>\n",
       "    </tr>\n",
       "    <tr>\n",
       "      <th>4</th>\n",
       "      <td>50.128709</td>\n",
       "      <td>43.0</td>\n",
       "      <td>-7.128709</td>\n",
       "      <td>16.58</td>\n",
       "    </tr>\n",
       "    <tr>\n",
       "      <th>...</th>\n",
       "      <td>...</td>\n",
       "      <td>...</td>\n",
       "      <td>...</td>\n",
       "      <td>...</td>\n",
       "    </tr>\n",
       "    <tr>\n",
       "      <th>2944</th>\n",
       "      <td>138.513329</td>\n",
       "      <td>135.0</td>\n",
       "      <td>-3.513329</td>\n",
       "      <td>2.60</td>\n",
       "    </tr>\n",
       "    <tr>\n",
       "      <th>2945</th>\n",
       "      <td>139.306055</td>\n",
       "      <td>140.0</td>\n",
       "      <td>0.693945</td>\n",
       "      <td>0.50</td>\n",
       "    </tr>\n",
       "    <tr>\n",
       "      <th>2946</th>\n",
       "      <td>94.444913</td>\n",
       "      <td>85.0</td>\n",
       "      <td>-9.444913</td>\n",
       "      <td>11.11</td>\n",
       "    </tr>\n",
       "    <tr>\n",
       "      <th>2947</th>\n",
       "      <td>49.638902</td>\n",
       "      <td>46.0</td>\n",
       "      <td>-3.638902</td>\n",
       "      <td>7.91</td>\n",
       "    </tr>\n",
       "    <tr>\n",
       "      <th>2948</th>\n",
       "      <td>234.142508</td>\n",
       "      <td>264.5</td>\n",
       "      <td>30.357492</td>\n",
       "      <td>11.48</td>\n",
       "    </tr>\n",
       "  </tbody>\n",
       "</table>\n",
       "<p>2949 rows × 4 columns</p>\n",
       "</div>"
      ],
      "text/plain": [
       "      Prediction  Target   Residual  Diff%\n",
       "0     225.329036   258.8  33.470964  12.93\n",
       "1     211.546267   212.8   1.253733   0.59\n",
       "2     129.327479   149.5  20.172521  13.49\n",
       "3     114.999917   130.0  15.000083  11.54\n",
       "4      50.128709    43.0  -7.128709  16.58\n",
       "...          ...     ...        ...    ...\n",
       "2944  138.513329   135.0  -3.513329   2.60\n",
       "2945  139.306055   140.0   0.693945   0.50\n",
       "2946   94.444913    85.0  -9.444913  11.11\n",
       "2947   49.638902    46.0  -3.638902   7.91\n",
       "2948  234.142508   264.5  30.357492  11.48\n",
       "\n",
       "[2949 rows x 4 columns]"
      ]
     },
     "execution_count": 360,
     "metadata": {},
     "output_type": "execute_result"
    }
   ],
   "source": [
    "df_pf['Residual']= df_pf['Target'] - df_pf['Prediction']\n",
    "\n",
    "df_pf['Diff%'] = np.absolute(df_pf['Residual']/df_pf['Target']*100).round(decimals=2)\n",
    "df_pf"
   ]
  },
  {
   "cell_type": "code",
   "execution_count": 373,
   "id": "b859d614",
   "metadata": {},
   "outputs": [],
   "source": [
    "p_value_table =  pd.DataFrame (data = inputs.columns, columns = ['Features' ]) "
   ]
  },
  {
   "cell_type": "code",
   "execution_count": 375,
   "id": "fa1de782",
   "metadata": {},
   "outputs": [],
   "source": [
    "p_value_table['weights'] = f_regression(X_test,y_test)[1]"
   ]
  },
  {
   "cell_type": "code",
   "execution_count": 378,
   "id": "09a35176",
   "metadata": {},
   "outputs": [
    {
     "data": {
      "text/html": [
       "<div>\n",
       "<style scoped>\n",
       "    .dataframe tbody tr th:only-of-type {\n",
       "        vertical-align: middle;\n",
       "    }\n",
       "\n",
       "    .dataframe tbody tr th {\n",
       "        vertical-align: top;\n",
       "    }\n",
       "\n",
       "    .dataframe thead th {\n",
       "        text-align: right;\n",
       "    }\n",
       "</style>\n",
       "<table border=\"1\" class=\"dataframe\">\n",
       "  <thead>\n",
       "    <tr style=\"text-align: right;\">\n",
       "      <th></th>\n",
       "      <th>Features</th>\n",
       "      <th>weights</th>\n",
       "    </tr>\n",
       "  </thead>\n",
       "  <tbody>\n",
       "    <tr>\n",
       "      <th>0</th>\n",
       "      <td>Year</td>\n",
       "      <td>0.000000e+00</td>\n",
       "    </tr>\n",
       "    <tr>\n",
       "      <th>2</th>\n",
       "      <td>Brand_Fiat</td>\n",
       "      <td>0.000000e+00</td>\n",
       "    </tr>\n",
       "    <tr>\n",
       "      <th>39</th>\n",
       "      <td>Transmission_Manual</td>\n",
       "      <td>3.854971e-315</td>\n",
       "    </tr>\n",
       "    <tr>\n",
       "      <th>38</th>\n",
       "      <td>Engine_1600 CC</td>\n",
       "      <td>2.967835e-198</td>\n",
       "    </tr>\n",
       "    <tr>\n",
       "      <th>3</th>\n",
       "      <td>Brand_Hyundai</td>\n",
       "      <td>3.500562e-120</td>\n",
       "    </tr>\n",
       "    <tr>\n",
       "      <th>...</th>\n",
       "      <td>...</td>\n",
       "      <td>...</td>\n",
       "    </tr>\n",
       "    <tr>\n",
       "      <th>24</th>\n",
       "      <td>Color_Blue- Navy Blue</td>\n",
       "      <td>8.544123e-01</td>\n",
       "    </tr>\n",
       "    <tr>\n",
       "      <th>62</th>\n",
       "      <td>Gov_Sohag</td>\n",
       "      <td>8.564710e-01</td>\n",
       "    </tr>\n",
       "    <tr>\n",
       "      <th>52</th>\n",
       "      <td>Gov_Luxor</td>\n",
       "      <td>8.804858e-01</td>\n",
       "    </tr>\n",
       "    <tr>\n",
       "      <th>49</th>\n",
       "      <td>Gov_Giza</td>\n",
       "      <td>9.314950e-01</td>\n",
       "    </tr>\n",
       "    <tr>\n",
       "      <th>48</th>\n",
       "      <td>Gov_Gharbia</td>\n",
       "      <td>9.540106e-01</td>\n",
       "    </tr>\n",
       "  </tbody>\n",
       "</table>\n",
       "<p>65 rows × 2 columns</p>\n",
       "</div>"
      ],
      "text/plain": [
       "                 Features        weights\n",
       "0                    Year   0.000000e+00\n",
       "2              Brand_Fiat   0.000000e+00\n",
       "39    Transmission_Manual  3.854971e-315\n",
       "38         Engine_1600 CC  2.967835e-198\n",
       "3           Brand_Hyundai  3.500562e-120\n",
       "..                    ...            ...\n",
       "24  Color_Blue- Navy Blue   8.544123e-01\n",
       "62              Gov_Sohag   8.564710e-01\n",
       "52              Gov_Luxor   8.804858e-01\n",
       "49               Gov_Giza   9.314950e-01\n",
       "48            Gov_Gharbia   9.540106e-01\n",
       "\n",
       "[65 rows x 2 columns]"
      ]
     },
     "execution_count": 378,
     "metadata": {},
     "output_type": "execute_result"
    }
   ],
   "source": [
    "p_value_table.sort_values('weights')"
   ]
  },
  {
   "cell_type": "code",
   "execution_count": 379,
   "id": "49f11583",
   "metadata": {},
   "outputs": [],
   "source": [
    "# Gov is not Relevant, should be removed"
   ]
  },
  {
   "cell_type": "code",
   "execution_count": 381,
   "id": "c3593e56",
   "metadata": {},
   "outputs": [
    {
     "data": {
      "text/plain": [
       "0.9107993978077813"
      ]
     },
     "execution_count": 381,
     "metadata": {},
     "output_type": "execute_result"
    }
   ],
   "source": [
    "reg.score(X_test, y_test)"
   ]
  },
  {
   "cell_type": "code",
   "execution_count": 382,
   "id": "ad1cb42d",
   "metadata": {},
   "outputs": [
    {
     "data": {
      "text/plain": [
       "0.9050039208760138"
      ]
     },
     "execution_count": 382,
     "metadata": {},
     "output_type": "execute_result"
    }
   ],
   "source": [
    "# r2 for \n",
    "\n",
    "r2 = reg.score(X_train,y_train)\n",
    "n = X_train.shape[0]\n",
    "p = X_train.shape[1]\n",
    "adjusted_r2 = 1-(1-r2)*(n-1)/(n-p-1)\n",
    "adjusted_r2"
   ]
  },
  {
   "cell_type": "code",
   "execution_count": 383,
   "id": "8671d229",
   "metadata": {},
   "outputs": [
    {
     "data": {
      "text/plain": [
       "0.9087882846816994"
      ]
     },
     "execution_count": 383,
     "metadata": {},
     "output_type": "execute_result"
    }
   ],
   "source": [
    "r2 = reg.score(X_test,y_test)\n",
    "\n",
    "n = X_test.shape[0]\n",
    "p = X_test.shape[1]\n",
    "\n",
    "adjusted_r2 = 1-(1-r2)*(n-1)/(n-p-1)\n",
    "adjusted_r2"
   ]
  },
  {
   "cell_type": "code",
   "execution_count": null,
   "id": "41d1a42f",
   "metadata": {},
   "outputs": [],
   "source": []
  },
  {
   "cell_type": "code",
   "execution_count": null,
   "id": "e1f64740",
   "metadata": {},
   "outputs": [],
   "source": []
  },
  {
   "cell_type": "code",
   "execution_count": null,
   "id": "8424483e",
   "metadata": {},
   "outputs": [],
   "source": []
  }
 ],
 "metadata": {
  "kernelspec": {
   "display_name": "Python 3 (ipykernel)",
   "language": "python",
   "name": "python3"
  },
  "language_info": {
   "codemirror_mode": {
    "name": "ipython",
    "version": 3
   },
   "file_extension": ".py",
   "mimetype": "text/x-python",
   "name": "python",
   "nbconvert_exporter": "python",
   "pygments_lexer": "ipython3",
   "version": "3.9.12"
  }
 },
 "nbformat": 4,
 "nbformat_minor": 5
}
